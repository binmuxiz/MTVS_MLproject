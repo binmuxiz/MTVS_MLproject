{
 "cells": [
  {
   "cell_type": "code",
   "execution_count": 867,
   "metadata": {},
   "outputs": [],
   "source": [
    "from selenium import webdriver \n",
    "from selenium.webdriver.common.by import By\n",
    "from selenium.webdriver.common.keys import Keys\n",
    "import time\n",
    "import json\n",
    "import requests\n",
    "from bs4 import BeautifulSoup\n",
    "from selenium.webdriver.chrome.service import Service\n",
    "from webdriver_manager.chrome import ChromeDriverManager\n",
    "import numpy as np\n",
    "from selenium.common.exceptions import NoSuchElementException"
   ]
  },
  {
   "cell_type": "code",
   "execution_count": 868,
   "metadata": {},
   "outputs": [],
   "source": [
    "chrom_options = webdriver.ChromeOptions()\n",
    "chrom_options.add_experimental_option('detach', True)\n",
    "chrom_options.add_argument(\"user-agent=Mozilla/5.0 (Windows NT 10.0; Win64; x64) AppleWebKit/537.36 (KHTML, like Gecko) Chrome/134.0.0.0 Safari/537.36\")\n",
    "driver = webdriver.Chrome(service=Service(ChromeDriverManager().install()), \n",
    "                          options=chrom_options)"
   ]
  },
  {
   "cell_type": "code",
   "execution_count": 869,
   "metadata": {},
   "outputs": [],
   "source": [
    "url = \"https://map.naver.com/p/search/%EC%97%90%EC%9D%B4%EC%97%A3%EB%94%94%EC%BB%A4%ED%94%BC%EB%B8%8C%EB%A3%A8%EC%96%B4%EC%8A%A4/place/1350935081?c=15.00,0,0,0,dh&isCorrectAnswer=true\"\n",
    "driver.get(url)\n",
    "driver.implicitly_wait(5)"
   ]
  },
  {
   "cell_type": "code",
   "execution_count": 870,
   "metadata": {},
   "outputs": [
    {
     "data": {
      "text/plain": [
       "True"
      ]
     },
     "execution_count": 870,
     "metadata": {},
     "output_type": "execute_result"
    }
   ],
   "source": [
    "from selenium.webdriver.support.ui import WebDriverWait\n",
    "from selenium.webdriver.support import expected_conditions as EC\n",
    "\n",
    "WebDriverWait(driver, 10).until(\n",
    "    EC.frame_to_be_available_and_switch_to_it((By.ID, \"entryIframe\"))\n",
    ")"
   ]
  },
  {
   "cell_type": "code",
   "execution_count": 871,
   "metadata": {},
   "outputs": [
    {
     "data": {
      "text/plain": [
       "[<selenium.webdriver.remote.webelement.WebElement (session=\"3bd6cfe74706709e3265fe427391f372\", element=\"f.BC0380D032A64A3D2A9278ED2300C156.d.ECD721427250CBEAA291BAEA1643E9B1.e.147\")>,\n",
       " <selenium.webdriver.remote.webelement.WebElement (session=\"3bd6cfe74706709e3265fe427391f372\", element=\"f.BC0380D032A64A3D2A9278ED2300C156.d.ECD721427250CBEAA291BAEA1643E9B1.e.134\")>,\n",
       " <selenium.webdriver.remote.webelement.WebElement (session=\"3bd6cfe74706709e3265fe427391f372\", element=\"f.BC0380D032A64A3D2A9278ED2300C156.d.ECD721427250CBEAA291BAEA1643E9B1.e.137\")>,\n",
       " <selenium.webdriver.remote.webelement.WebElement (session=\"3bd6cfe74706709e3265fe427391f372\", element=\"f.BC0380D032A64A3D2A9278ED2300C156.d.ECD721427250CBEAA291BAEA1643E9B1.e.140\")>,\n",
       " <selenium.webdriver.remote.webelement.WebElement (session=\"3bd6cfe74706709e3265fe427391f372\", element=\"f.BC0380D032A64A3D2A9278ED2300C156.d.ECD721427250CBEAA291BAEA1643E9B1.e.143\")>,\n",
       " <selenium.webdriver.remote.webelement.WebElement (session=\"3bd6cfe74706709e3265fe427391f372\", element=\"f.BC0380D032A64A3D2A9278ED2300C156.d.ECD721427250CBEAA291BAEA1643E9B1.e.146\")>]"
      ]
     },
     "execution_count": 871,
     "metadata": {},
     "output_type": "execute_result"
    }
   ],
   "source": [
    "button_0 = driver.find_elements(By.CSS_SELECTOR,'.tpj9w._tab-menu')\n",
    "button_0"
   ]
  },
  {
   "cell_type": "code",
   "execution_count": 872,
   "metadata": {},
   "outputs": [],
   "source": [
    "button_0[2].click()"
   ]
  },
  {
   "cell_type": "code",
   "execution_count": 873,
   "metadata": {},
   "outputs": [
    {
     "data": {
      "text/plain": [
       "[<selenium.webdriver.remote.webelement.WebElement (session=\"3bd6cfe74706709e3265fe427391f372\", element=\"f.BC0380D032A64A3D2A9278ED2300C156.d.ECD721427250CBEAA291BAEA1643E9B1.e.217\")>]"
      ]
     },
     "execution_count": 873,
     "metadata": {},
     "output_type": "execute_result"
    }
   ],
   "source": [
    "button = driver.find_elements(By.CSS_SELECTOR,'.dP0sq')\n",
    "button"
   ]
  },
  {
   "cell_type": "code",
   "execution_count": 874,
   "metadata": {},
   "outputs": [
    {
     "name": "stdout",
     "output_type": "stream",
     "text": [
      "더보기 버튼 없음. 모든 리뷰 로드 완료.\n"
     ]
    }
   ],
   "source": [
    "while True:\n",
    "    try:\n",
    "        button[0].click()\n",
    "        time.sleep(1)\n",
    "    except:\n",
    "        print(\"더보기 버튼 없음. 모든 리뷰 로드 완료.\")\n",
    "        break  # 더 이상 버튼이 없으면 종료"
   ]
  },
  {
   "cell_type": "code",
   "execution_count": 875,
   "metadata": {},
   "outputs": [
    {
     "data": {
      "text/plain": [
       "[<selenium.webdriver.remote.webelement.WebElement (session=\"3bd6cfe74706709e3265fe427391f372\", element=\"f.BC0380D032A64A3D2A9278ED2300C156.d.ECD721427250CBEAA291BAEA1643E9B1.e.234\")>]"
      ]
     },
     "execution_count": 875,
     "metadata": {},
     "output_type": "execute_result"
    }
   ],
   "source": [
    "button2 = driver.find_elements(By.CSS_SELECTOR,'.TeItc')\n",
    "button2"
   ]
  },
  {
   "cell_type": "code",
   "execution_count": 876,
   "metadata": {},
   "outputs": [
    {
     "name": "stdout",
     "output_type": "stream",
     "text": [
      "더보기 버튼 없음. 모든 리뷰 로드 완료.\n"
     ]
    }
   ],
   "source": [
    "while True:  #리뷰 더보기\n",
    "    try:\n",
    "        button2[0].click()\n",
    "        time.sleep(1)\n",
    "    except:\n",
    "        print(\"더보기 버튼 없음. 모든 리뷰 로드 완료.\")\n",
    "        break  # 더 이상 버튼이 없으면 종료"
   ]
  },
  {
   "cell_type": "code",
   "execution_count": 877,
   "metadata": {},
   "outputs": [
    {
     "data": {
      "text/plain": [
       "[<selenium.webdriver.remote.webelement.WebElement (session=\"3bd6cfe74706709e3265fe427391f372\", element=\"f.BC0380D032A64A3D2A9278ED2300C156.d.ECD721427250CBEAA291BAEA1643E9B1.e.269\")>]"
      ]
     },
     "execution_count": 877,
     "metadata": {},
     "output_type": "execute_result"
    }
   ],
   "source": [
    "name_elements = driver.find_elements(By.CSS_SELECTOR,\".GHAhO\")\n",
    "name_elements"
   ]
  },
  {
   "cell_type": "code",
   "execution_count": 878,
   "metadata": {},
   "outputs": [
    {
     "name": "stdout",
     "output_type": "stream",
     "text": [
      "에이엣디커피브루어스\n"
     ]
    }
   ],
   "source": [
    "store_name=[]  # 가게이름~~~~~~\n",
    "for i in name_elements:\n",
    "    print(i.text)\n",
    "    store_name.append(i.text)"
   ]
  },
  {
   "cell_type": "code",
   "execution_count": 879,
   "metadata": {},
   "outputs": [
    {
     "data": {
      "text/plain": [
       "[<selenium.webdriver.remote.webelement.WebElement (session=\"3bd6cfe74706709e3265fe427391f372\", element=\"f.BC0380D032A64A3D2A9278ED2300C156.d.ECD721427250CBEAA291BAEA1643E9B1.e.234\")>]"
      ]
     },
     "execution_count": 879,
     "metadata": {},
     "output_type": "execute_result"
    }
   ],
   "source": [
    "button2 = driver.find_elements(By.CSS_SELECTOR,'.TeItc')\n",
    "button2"
   ]
  },
  {
   "cell_type": "code",
   "execution_count": 880,
   "metadata": {},
   "outputs": [
    {
     "name": "stdout",
     "output_type": "stream",
     "text": [
      "더보기 버튼 없음. 모든 리뷰 로드 완료.\n"
     ]
    }
   ],
   "source": [
    "while True:\n",
    "    try:\n",
    "        button2[0].click()\n",
    "        time.sleep(1)\n",
    "    except:\n",
    "        print(\"더보기 버튼 없음. 모든 리뷰 로드 완료.\")\n",
    "        break  # 더 이상 버튼이 없으면 종료"
   ]
  },
  {
   "cell_type": "code",
   "execution_count": 881,
   "metadata": {},
   "outputs": [
    {
     "data": {
      "text/plain": [
       "[<selenium.webdriver.remote.webelement.WebElement (session=\"3bd6cfe74706709e3265fe427391f372\", element=\"f.BC0380D032A64A3D2A9278ED2300C156.d.ECD721427250CBEAA291BAEA1643E9B1.e.270\")>,\n",
       " <selenium.webdriver.remote.webelement.WebElement (session=\"3bd6cfe74706709e3265fe427391f372\", element=\"f.BC0380D032A64A3D2A9278ED2300C156.d.ECD721427250CBEAA291BAEA1643E9B1.e.271\")>,\n",
       " <selenium.webdriver.remote.webelement.WebElement (session=\"3bd6cfe74706709e3265fe427391f372\", element=\"f.BC0380D032A64A3D2A9278ED2300C156.d.ECD721427250CBEAA291BAEA1643E9B1.e.272\")>,\n",
       " <selenium.webdriver.remote.webelement.WebElement (session=\"3bd6cfe74706709e3265fe427391f372\", element=\"f.BC0380D032A64A3D2A9278ED2300C156.d.ECD721427250CBEAA291BAEA1643E9B1.e.273\")>,\n",
       " <selenium.webdriver.remote.webelement.WebElement (session=\"3bd6cfe74706709e3265fe427391f372\", element=\"f.BC0380D032A64A3D2A9278ED2300C156.d.ECD721427250CBEAA291BAEA1643E9B1.e.274\")>,\n",
       " <selenium.webdriver.remote.webelement.WebElement (session=\"3bd6cfe74706709e3265fe427391f372\", element=\"f.BC0380D032A64A3D2A9278ED2300C156.d.ECD721427250CBEAA291BAEA1643E9B1.e.275\")>,\n",
       " <selenium.webdriver.remote.webelement.WebElement (session=\"3bd6cfe74706709e3265fe427391f372\", element=\"f.BC0380D032A64A3D2A9278ED2300C156.d.ECD721427250CBEAA291BAEA1643E9B1.e.276\")>,\n",
       " <selenium.webdriver.remote.webelement.WebElement (session=\"3bd6cfe74706709e3265fe427391f372\", element=\"f.BC0380D032A64A3D2A9278ED2300C156.d.ECD721427250CBEAA291BAEA1643E9B1.e.277\")>,\n",
       " <selenium.webdriver.remote.webelement.WebElement (session=\"3bd6cfe74706709e3265fe427391f372\", element=\"f.BC0380D032A64A3D2A9278ED2300C156.d.ECD721427250CBEAA291BAEA1643E9B1.e.278\")>,\n",
       " <selenium.webdriver.remote.webelement.WebElement (session=\"3bd6cfe74706709e3265fe427391f372\", element=\"f.BC0380D032A64A3D2A9278ED2300C156.d.ECD721427250CBEAA291BAEA1643E9B1.e.279\")>]"
      ]
     },
     "execution_count": 881,
     "metadata": {},
     "output_type": "execute_result"
    }
   ],
   "source": [
    "when_elements = driver.find_elements(By.CSS_SELECTOR,\".pui__uqSlGl\")\n",
    "when_elements"
   ]
  },
  {
   "cell_type": "code",
   "execution_count": 882,
   "metadata": {},
   "outputs": [],
   "source": [
    "visitor_elements = driver.find_elements(By.CSS_SELECTOR,\".pui__hvyFHZ\")"
   ]
  },
  {
   "cell_type": "code",
   "execution_count": 883,
   "metadata": {},
   "outputs": [
    {
     "name": "stdout",
     "output_type": "stream",
     "text": [
      "쑥 쑤기\n",
      "리뷰 236사진 677팔로워 17테마 1\n",
      "papang\n",
      "리뷰 5사진 8\n",
      "godgujb\n",
      "리뷰 362사진 101팔로워 14테마 1\n",
      "설탕슈박\n",
      "리뷰 13사진 11\n",
      "Happyminmk\n",
      "리뷰 2,767사진 7,775팔로워 102\n",
      "00000siri\n",
      "리뷰 728사진 371\n",
      "후잇후잇\n",
      "리뷰 74사진 85\n",
      "캐슬이의 공간\n",
      "리뷰 753사진 2,202팔로워 63\n",
      "jun****\n",
      "리뷰 2,332사진 269\n",
      "설탕슈박\n",
      "리뷰 13사진 11\n"
     ]
    }
   ],
   "source": [
    "visitor=[] #리뷰작성자~~~~~\n",
    "user_info=[]\n",
    "for i in visitor_elements:\n",
    "    print(i.text)\n",
    "    visitor.append(i.text)"
   ]
  },
  {
   "cell_type": "code",
   "execution_count": 884,
   "metadata": {},
   "outputs": [
    {
     "data": {
      "text/plain": [
       "'쑥 쑤기\\n리뷰 236사진 677팔로워 17테마 1'"
      ]
     },
     "execution_count": 884,
     "metadata": {},
     "output_type": "execute_result"
    }
   ],
   "source": [
    "visitor[0]"
   ]
  },
  {
   "cell_type": "code",
   "execution_count": 885,
   "metadata": {},
   "outputs": [
    {
     "data": {
      "text/plain": [
       "[<selenium.webdriver.remote.webelement.WebElement (session=\"3bd6cfe74706709e3265fe427391f372\", element=\"f.BC0380D032A64A3D2A9278ED2300C156.d.ECD721427250CBEAA291BAEA1643E9B1.e.290\")>,\n",
       " <selenium.webdriver.remote.webelement.WebElement (session=\"3bd6cfe74706709e3265fe427391f372\", element=\"f.BC0380D032A64A3D2A9278ED2300C156.d.ECD721427250CBEAA291BAEA1643E9B1.e.291\")>,\n",
       " <selenium.webdriver.remote.webelement.WebElement (session=\"3bd6cfe74706709e3265fe427391f372\", element=\"f.BC0380D032A64A3D2A9278ED2300C156.d.ECD721427250CBEAA291BAEA1643E9B1.e.292\")>,\n",
       " <selenium.webdriver.remote.webelement.WebElement (session=\"3bd6cfe74706709e3265fe427391f372\", element=\"f.BC0380D032A64A3D2A9278ED2300C156.d.ECD721427250CBEAA291BAEA1643E9B1.e.293\")>,\n",
       " <selenium.webdriver.remote.webelement.WebElement (session=\"3bd6cfe74706709e3265fe427391f372\", element=\"f.BC0380D032A64A3D2A9278ED2300C156.d.ECD721427250CBEAA291BAEA1643E9B1.e.294\")>,\n",
       " <selenium.webdriver.remote.webelement.WebElement (session=\"3bd6cfe74706709e3265fe427391f372\", element=\"f.BC0380D032A64A3D2A9278ED2300C156.d.ECD721427250CBEAA291BAEA1643E9B1.e.295\")>,\n",
       " <selenium.webdriver.remote.webelement.WebElement (session=\"3bd6cfe74706709e3265fe427391f372\", element=\"f.BC0380D032A64A3D2A9278ED2300C156.d.ECD721427250CBEAA291BAEA1643E9B1.e.296\")>,\n",
       " <selenium.webdriver.remote.webelement.WebElement (session=\"3bd6cfe74706709e3265fe427391f372\", element=\"f.BC0380D032A64A3D2A9278ED2300C156.d.ECD721427250CBEAA291BAEA1643E9B1.e.297\")>,\n",
       " <selenium.webdriver.remote.webelement.WebElement (session=\"3bd6cfe74706709e3265fe427391f372\", element=\"f.BC0380D032A64A3D2A9278ED2300C156.d.ECD721427250CBEAA291BAEA1643E9B1.e.298\")>,\n",
       " <selenium.webdriver.remote.webelement.WebElement (session=\"3bd6cfe74706709e3265fe427391f372\", element=\"f.BC0380D032A64A3D2A9278ED2300C156.d.ECD721427250CBEAA291BAEA1643E9B1.e.299\")>]"
      ]
     },
     "execution_count": 885,
     "metadata": {},
     "output_type": "execute_result"
    }
   ],
   "source": [
    "user_info_elements = driver.find_elements(By.CSS_SELECTOR,\".pui__RuLAax\")\n",
    "user_info_elements"
   ]
  },
  {
   "cell_type": "code",
   "execution_count": 886,
   "metadata": {},
   "outputs": [
    {
     "name": "stdout",
     "output_type": "stream",
     "text": [
      "[['점심에 방문', '예약 없이 이용', '바로 입장', '나들이, 일상', nan], ['점심에 방문', '예약 없이 이용', '바로 입장', '일상', '친구'], ['점심에 방문', '예약 없이 이용', '바로 입장', '일상', '친구'], ['점심에 방문', '예약 없이 이용', '바로 입장', '친목', '친구'], ['점심에 방문', '예약 없이 이용', '바로 입장', nan, nan], ['점심에 방문', '예약 없이 이용', '바로 입장', '일상', '연인・배우자'], ['점심에 방문', '예약 없이 이용', '바로 입장', '데이트', nan], ['점심에 방문', '예약 없이 이용', '바로 입장', '데이트', nan], ['점심에 방문', '포장·배달 이용', '10분 이내', '일상', nan], ['아침에 방문', '예약 없이 이용', '바로 입장', '일상', '친구']]\n"
     ]
    }
   ],
   "source": [
    "user_info = []  # 리뷰별 해시태그 리스트 저장\n",
    "\n",
    "# 전체 리뷰 목록 가져오기 (여기서 when_elements는 \"리뷰 단위\"로 되어 있어야 함)\n",
    "for review in when_elements:\n",
    "    hashtags = []  # \n",
    "\n",
    "    # 리뷰 안에 있는 모든 <em> 태그 가져오기\n",
    "    em_tags = review.find_elements(By.TAG_NAME, \"em\")  \n",
    "\n",
    "    # \n",
    "    for em in em_tags:\n",
    "        text = em.text.strip()\n",
    "        if text:  # 공백이 아닐 경우만 추가\n",
    "            hashtags.append(text)\n",
    "\n",
    "    # 한 리뷰의 해시태그가 5개보다 적으면 NaN 채우기\n",
    "    hashtags += [np.nan] * (5 - len(hashtags))\n",
    "\n",
    "    # 리뷰 단위로 리스트에 추가\n",
    "    user_info.append(hashtags)\n",
    "\n",
    "print(user_info)  # 결과 확인"
   ]
  },
  {
   "cell_type": "code",
   "execution_count": 887,
   "metadata": {},
   "outputs": [
    {
     "data": {
      "text/plain": [
       "[<selenium.webdriver.remote.webelement.WebElement (session=\"3bd6cfe74706709e3265fe427391f372\", element=\"f.BC0380D032A64A3D2A9278ED2300C156.d.ECD721427250CBEAA291BAEA1643E9B1.e.348\")>,\n",
       " <selenium.webdriver.remote.webelement.WebElement (session=\"3bd6cfe74706709e3265fe427391f372\", element=\"f.BC0380D032A64A3D2A9278ED2300C156.d.ECD721427250CBEAA291BAEA1643E9B1.e.349\")>,\n",
       " <selenium.webdriver.remote.webelement.WebElement (session=\"3bd6cfe74706709e3265fe427391f372\", element=\"f.BC0380D032A64A3D2A9278ED2300C156.d.ECD721427250CBEAA291BAEA1643E9B1.e.350\")>,\n",
       " <selenium.webdriver.remote.webelement.WebElement (session=\"3bd6cfe74706709e3265fe427391f372\", element=\"f.BC0380D032A64A3D2A9278ED2300C156.d.ECD721427250CBEAA291BAEA1643E9B1.e.351\")>,\n",
       " <selenium.webdriver.remote.webelement.WebElement (session=\"3bd6cfe74706709e3265fe427391f372\", element=\"f.BC0380D032A64A3D2A9278ED2300C156.d.ECD721427250CBEAA291BAEA1643E9B1.e.352\")>,\n",
       " <selenium.webdriver.remote.webelement.WebElement (session=\"3bd6cfe74706709e3265fe427391f372\", element=\"f.BC0380D032A64A3D2A9278ED2300C156.d.ECD721427250CBEAA291BAEA1643E9B1.e.353\")>,\n",
       " <selenium.webdriver.remote.webelement.WebElement (session=\"3bd6cfe74706709e3265fe427391f372\", element=\"f.BC0380D032A64A3D2A9278ED2300C156.d.ECD721427250CBEAA291BAEA1643E9B1.e.354\")>,\n",
       " <selenium.webdriver.remote.webelement.WebElement (session=\"3bd6cfe74706709e3265fe427391f372\", element=\"f.BC0380D032A64A3D2A9278ED2300C156.d.ECD721427250CBEAA291BAEA1643E9B1.e.355\")>,\n",
       " <selenium.webdriver.remote.webelement.WebElement (session=\"3bd6cfe74706709e3265fe427391f372\", element=\"f.BC0380D032A64A3D2A9278ED2300C156.d.ECD721427250CBEAA291BAEA1643E9B1.e.356\")>,\n",
       " <selenium.webdriver.remote.webelement.WebElement (session=\"3bd6cfe74706709e3265fe427391f372\", element=\"f.BC0380D032A64A3D2A9278ED2300C156.d.ECD721427250CBEAA291BAEA1643E9B1.e.357\")>,\n",
       " <selenium.webdriver.remote.webelement.WebElement (session=\"3bd6cfe74706709e3265fe427391f372\", element=\"f.BC0380D032A64A3D2A9278ED2300C156.d.ECD721427250CBEAA291BAEA1643E9B1.e.358\")>,\n",
       " <selenium.webdriver.remote.webelement.WebElement (session=\"3bd6cfe74706709e3265fe427391f372\", element=\"f.BC0380D032A64A3D2A9278ED2300C156.d.ECD721427250CBEAA291BAEA1643E9B1.e.359\")>,\n",
       " <selenium.webdriver.remote.webelement.WebElement (session=\"3bd6cfe74706709e3265fe427391f372\", element=\"f.BC0380D032A64A3D2A9278ED2300C156.d.ECD721427250CBEAA291BAEA1643E9B1.e.360\")>,\n",
       " <selenium.webdriver.remote.webelement.WebElement (session=\"3bd6cfe74706709e3265fe427391f372\", element=\"f.BC0380D032A64A3D2A9278ED2300C156.d.ECD721427250CBEAA291BAEA1643E9B1.e.361\")>,\n",
       " <selenium.webdriver.remote.webelement.WebElement (session=\"3bd6cfe74706709e3265fe427391f372\", element=\"f.BC0380D032A64A3D2A9278ED2300C156.d.ECD721427250CBEAA291BAEA1643E9B1.e.362\")>,\n",
       " <selenium.webdriver.remote.webelement.WebElement (session=\"3bd6cfe74706709e3265fe427391f372\", element=\"f.BC0380D032A64A3D2A9278ED2300C156.d.ECD721427250CBEAA291BAEA1643E9B1.e.363\")>,\n",
       " <selenium.webdriver.remote.webelement.WebElement (session=\"3bd6cfe74706709e3265fe427391f372\", element=\"f.BC0380D032A64A3D2A9278ED2300C156.d.ECD721427250CBEAA291BAEA1643E9B1.e.364\")>,\n",
       " <selenium.webdriver.remote.webelement.WebElement (session=\"3bd6cfe74706709e3265fe427391f372\", element=\"f.BC0380D032A64A3D2A9278ED2300C156.d.ECD721427250CBEAA291BAEA1643E9B1.e.365\")>,\n",
       " <selenium.webdriver.remote.webelement.WebElement (session=\"3bd6cfe74706709e3265fe427391f372\", element=\"f.BC0380D032A64A3D2A9278ED2300C156.d.ECD721427250CBEAA291BAEA1643E9B1.e.366\")>,\n",
       " <selenium.webdriver.remote.webelement.WebElement (session=\"3bd6cfe74706709e3265fe427391f372\", element=\"f.BC0380D032A64A3D2A9278ED2300C156.d.ECD721427250CBEAA291BAEA1643E9B1.e.367\")>]"
      ]
     },
     "execution_count": 887,
     "metadata": {},
     "output_type": "execute_result"
    }
   ],
   "source": [
    "pluses_elements = driver.find_elements(By.CSS_SELECTOR,\".t3JSf\")\n",
    "pluses_elements"
   ]
  },
  {
   "cell_type": "code",
   "execution_count": 888,
   "metadata": {},
   "outputs": [],
   "source": [
    "pluses_number_elements = driver.find_elements(By.CSS_SELECTOR,\".CUoLy\")"
   ]
  },
  {
   "cell_type": "code",
   "execution_count": 889,
   "metadata": {},
   "outputs": [
    {
     "name": "stdout",
     "output_type": "stream",
     "text": [
      "\"커피가 맛있어요\"\n",
      "\"친절해요\"\n",
      "\"음료가 맛있어요\"\n",
      "\"매장이 청결해요\"\n",
      "\"인테리어가 멋져요\"\n",
      "\"특별한 메뉴가 있어요\"\n",
      "\"가성비가 좋아요\"\n",
      "\"디저트가 맛있어요\"\n",
      "\"화장실이 깨끗해요\"\n",
      "\"사진이 잘 나와요\"\n",
      "\"대화하기 좋아요\"\n",
      "\"좌석이 편해요\"\n",
      "\"아늑해요\"\n",
      "\"집중하기 좋아요\"\n",
      "\"메뉴 구성이 알차요\"\n",
      "\"주차하기 편해요\"\n",
      "\"음악이 좋아요\"\n",
      "\"야외공간이 멋져요\"\n",
      "\"뷰가 좋아요\"\n",
      "\"차분한 분위기에요\"\n",
      " \n",
      " \n",
      " \n",
      " \n",
      " \n",
      " \n",
      " \n",
      " \n",
      " \n",
      " \n",
      " \n",
      " \n",
      " \n",
      " \n",
      " \n",
      " \n",
      " \n",
      " \n",
      " \n",
      " \n"
     ]
    }
   ],
   "source": [
    "pluses = [] # 이런점이 좋았어요~~~~~\n",
    "pluses_number=[]\n",
    "\n",
    "for i in pluses_elements:\n",
    "    print(i.text)\n",
    "    pluses.append(i.text)\n",
    "for j in pluses_number_elements:\n",
    "    print(j.text[1])\n",
    "    pluses_number.append(j.text[1])"
   ]
  },
  {
   "cell_type": "code",
   "execution_count": 890,
   "metadata": {},
   "outputs": [
    {
     "data": {
      "text/plain": [
       "[<selenium.webdriver.remote.webelement.WebElement (session=\"3bd6cfe74706709e3265fe427391f372\", element=\"f.BC0380D032A64A3D2A9278ED2300C156.d.ECD721427250CBEAA291BAEA1643E9B1.e.234\")>]"
      ]
     },
     "execution_count": 890,
     "metadata": {},
     "output_type": "execute_result"
    }
   ],
   "source": [
    "button2 = driver.find_elements(By.CSS_SELECTOR,'.TeItc')\n",
    "button2"
   ]
  },
  {
   "cell_type": "code",
   "execution_count": 891,
   "metadata": {},
   "outputs": [
    {
     "name": "stdout",
     "output_type": "stream",
     "text": [
      "더보기 버튼 없음. 모든 리뷰 로드 완료.\n"
     ]
    }
   ],
   "source": [
    "while True:  #리뷰 더보기\n",
    "    try:\n",
    "        button2[0].click()\n",
    "        time.sleep(1)\n",
    "    except:\n",
    "        print(\"더보기 버튼 없음. 모든 리뷰 로드 완료.\")\n",
    "        break  # 더 이상 버튼이 없으면 종료"
   ]
  },
  {
   "cell_type": "code",
   "execution_count": 892,
   "metadata": {},
   "outputs": [],
   "source": [
    "visitor_elements = driver.find_elements(By.CSS_SELECTOR,\".pui__hvyFHZ\")"
   ]
  },
  {
   "cell_type": "code",
   "execution_count": 893,
   "metadata": {},
   "outputs": [
    {
     "name": "stdout",
     "output_type": "stream",
     "text": [
      "쑥 쑤기\n",
      "리뷰 236사진 677팔로워 17테마 1\n",
      "papang\n",
      "리뷰 5사진 8\n",
      "godgujb\n",
      "리뷰 362사진 101팔로워 14테마 1\n",
      "설탕슈박\n",
      "리뷰 13사진 11\n",
      "Happyminmk\n",
      "리뷰 2,767사진 7,775팔로워 102\n",
      "00000siri\n",
      "리뷰 728사진 371\n",
      "후잇후잇\n",
      "리뷰 74사진 85\n",
      "캐슬이의 공간\n",
      "리뷰 753사진 2,202팔로워 63\n",
      "jun****\n",
      "리뷰 2,332사진 269\n",
      "설탕슈박\n",
      "리뷰 13사진 11\n"
     ]
    }
   ],
   "source": [
    "visitor=[] #리뷰작성자~~~~~\n",
    "for i in visitor_elements:\n",
    "    print(i.text)\n",
    "    visitor.append(i.text)"
   ]
  },
  {
   "cell_type": "code",
   "execution_count": 894,
   "metadata": {},
   "outputs": [
    {
     "data": {
      "text/plain": [
       "[<selenium.webdriver.remote.webelement.WebElement (session=\"3bd6cfe74706709e3265fe427391f372\", element=\"f.BC0380D032A64A3D2A9278ED2300C156.d.ECD721427250CBEAA291BAEA1643E9B1.e.270\")>,\n",
       " <selenium.webdriver.remote.webelement.WebElement (session=\"3bd6cfe74706709e3265fe427391f372\", element=\"f.BC0380D032A64A3D2A9278ED2300C156.d.ECD721427250CBEAA291BAEA1643E9B1.e.271\")>,\n",
       " <selenium.webdriver.remote.webelement.WebElement (session=\"3bd6cfe74706709e3265fe427391f372\", element=\"f.BC0380D032A64A3D2A9278ED2300C156.d.ECD721427250CBEAA291BAEA1643E9B1.e.272\")>,\n",
       " <selenium.webdriver.remote.webelement.WebElement (session=\"3bd6cfe74706709e3265fe427391f372\", element=\"f.BC0380D032A64A3D2A9278ED2300C156.d.ECD721427250CBEAA291BAEA1643E9B1.e.273\")>,\n",
       " <selenium.webdriver.remote.webelement.WebElement (session=\"3bd6cfe74706709e3265fe427391f372\", element=\"f.BC0380D032A64A3D2A9278ED2300C156.d.ECD721427250CBEAA291BAEA1643E9B1.e.274\")>,\n",
       " <selenium.webdriver.remote.webelement.WebElement (session=\"3bd6cfe74706709e3265fe427391f372\", element=\"f.BC0380D032A64A3D2A9278ED2300C156.d.ECD721427250CBEAA291BAEA1643E9B1.e.275\")>,\n",
       " <selenium.webdriver.remote.webelement.WebElement (session=\"3bd6cfe74706709e3265fe427391f372\", element=\"f.BC0380D032A64A3D2A9278ED2300C156.d.ECD721427250CBEAA291BAEA1643E9B1.e.276\")>,\n",
       " <selenium.webdriver.remote.webelement.WebElement (session=\"3bd6cfe74706709e3265fe427391f372\", element=\"f.BC0380D032A64A3D2A9278ED2300C156.d.ECD721427250CBEAA291BAEA1643E9B1.e.277\")>,\n",
       " <selenium.webdriver.remote.webelement.WebElement (session=\"3bd6cfe74706709e3265fe427391f372\", element=\"f.BC0380D032A64A3D2A9278ED2300C156.d.ECD721427250CBEAA291BAEA1643E9B1.e.278\")>,\n",
       " <selenium.webdriver.remote.webelement.WebElement (session=\"3bd6cfe74706709e3265fe427391f372\", element=\"f.BC0380D032A64A3D2A9278ED2300C156.d.ECD721427250CBEAA291BAEA1643E9B1.e.279\")>]"
      ]
     },
     "execution_count": 894,
     "metadata": {},
     "output_type": "execute_result"
    }
   ],
   "source": [
    "when_elements = driver.find_elements(By.CSS_SELECTOR,\".pui__uqSlGl\")\n",
    "when_elements"
   ]
  },
  {
   "cell_type": "code",
   "execution_count": 895,
   "metadata": {},
   "outputs": [],
   "source": [
    "# when = []  # 리뷰별 해시태그 리스트 저장\n",
    "\n",
    "# # 전체 리뷰 목록 가져오기 (여기서 when_elements는 \"리뷰 단위\"로 되어 있어야 함)\n",
    "# for review in when_elements:\n",
    "#     hashtags = []  # \n",
    "\n",
    "#     # 리뷰 안에 있는 모든 <em> 태그 가져오기\n",
    "#     em_tags = review.find_elements(By.TAG_NAME, \"em\")  \n",
    "\n",
    "#     # \n",
    "#     for em in em_tags:\n",
    "#         text = em.text.strip()\n",
    "#         if text:  # 공백이 아닐 경우만 추가\n",
    "#             hashtags.append(text)\n",
    "\n",
    "#     # 한 리뷰의 해시태그가 5개보다 적으면 NaN 채우기\n",
    "#     hashtags += [np.nan] * (5 - len(hashtags))\n",
    "\n",
    "#     # 리뷰 단위로 리스트에 추가\n",
    "#     when.append(hashtags)\n",
    "\n",
    "# print(when)  # 결과 확인"
   ]
  },
  {
   "cell_type": "code",
   "execution_count": 896,
   "metadata": {},
   "outputs": [
    {
     "data": {
      "text/plain": [
       "['1번째 방문',\n",
       " '1번째 방문',\n",
       " '3번째 방문',\n",
       " '5번째 방문',\n",
       " '1번째 방문',\n",
       " '1번째 방문',\n",
       " '1번째 방문',\n",
       " '1번째 방문',\n",
       " '19번째 방문',\n",
       " '3번째 방문']"
      ]
     },
     "execution_count": 896,
     "metadata": {},
     "output_type": "execute_result"
    }
   ],
   "source": [
    "COUNT_elements = driver.find_elements(By.CSS_SELECTOR, \".pui__QKE5Pr\") # 방문횟수~~~~~~~\n",
    "\n",
    "# 방문 횟수를 저장할 리스트\n",
    "VISIT_COUNT = []\n",
    "\n",
    "# 방문 횟수 추출\n",
    "for element in COUNT_elements:\n",
    "    spans = element.find_elements(By.CSS_SELECTOR, \".pui__gfuUIT\")\n",
    "    for span in spans:\n",
    "        if \"번째 방문\" in span.text:\n",
    "            VISIT_COUNT.append(span.text)  # \"n번째 방문\"을 리스트에 추가\n",
    "\n",
    "# 결과 확인\n",
    "VISIT_COUNT"
   ]
  },
  {
   "cell_type": "code",
   "execution_count": 897,
   "metadata": {},
   "outputs": [
    {
     "name": "stdout",
     "output_type": "stream",
     "text": [
      "✅ 클릭 성공: +3\n",
      "개의 리뷰가 더 있습니다\n",
      "펼쳐보기\n",
      "✅ 클릭 성공: +3\n",
      "개의 리뷰가 더 있습니다\n",
      "펼쳐보기\n",
      "✅ 클릭 성공: +4\n",
      "개의 리뷰가 더 있습니다\n",
      "펼쳐보기\n",
      "✅ 클릭 성공: +1\n",
      "개의 리뷰가 더 있습니다\n",
      "펼쳐보기\n",
      "✅ 클릭 성공: +4\n",
      "개의 리뷰가 더 있습니다\n",
      "펼쳐보기\n",
      "✅ 클릭 성공: +4\n",
      "개의 리뷰가 더 있습니다\n",
      "펼쳐보기\n",
      "✅ 클릭 성공: +3\n",
      "개의 리뷰가 더 있습니다\n",
      "펼쳐보기\n",
      "🔍 더 이상 클릭할 버튼 없음\n"
     ]
    }
   ],
   "source": [
    "# from selenium.webdriver.common.by import By\n",
    "# from selenium.webdriver.common.action_chains import ActionChains\n",
    "# from selenium.webdriver.common.keys import Keys\n",
    "# from selenium.webdriver.support.ui import WebDriverWait\n",
    "# from selenium.webdriver.support import expected_conditions as EC\n",
    "# import time\n",
    "# while True:\n",
    "\n",
    "#     try:\n",
    "#         # ✅ 1. 버튼이 로드될 때까지 대기\n",
    "#         wait = WebDriverWait(driver, 10)\n",
    "#         more_button = wait.until(EC.element_to_be_clickable((By.CSS_SELECTOR, '[data-pui-click-code=\"keywordmore\"]')))\n",
    "\n",
    "#         # ✅ 2. 버튼이 화면에 보이도록 스크롤 (부드럽게)\n",
    "#         driver.execute_script(\"arguments[0].scrollIntoView({behavior: 'smooth', block: 'center'});\", more_button)\n",
    "#         # time.sleep(1)  # 스크롤 후 대기\n",
    "\n",
    "#         # ✅ 3. ActionChains로 클릭 (우회 방법)\n",
    "#         actions = ActionChains(driver)\n",
    "#         actions.move_to_element(more_button).click().perform()\n",
    "        \n",
    "#         print(\"✅ 더보기 버튼 클릭 완료!\")\n",
    "#         # time.sleep(2)  # 페이지 업데이트 대기\n",
    "#     except Exception as e:\n",
    "#         print(\"❌ 더보기 버튼 클릭 실패:\", e)\n",
    "\n",
    "\n",
    "MAX_CLICKS = 20\n",
    "clicked = 0\n",
    "\n",
    "while True:\n",
    "    try:\n",
    "        # +숫자 버튼들 다시 가져오기 (동적으로 바뀌니까 매번 새로!)\n",
    "        more_buttons = driver.find_elements(By.CSS_SELECTOR, 'a.pui__jhpEyP.pui__ggzZJ8')\n",
    "\n",
    "        target_found = False\n",
    "        for btn in more_buttons:\n",
    "            text = btn.text.strip()\n",
    "            if text.startswith(\"+\"):  # +3, +4 등의 버튼만 대상\n",
    "                try:\n",
    "                    # ✅ JavaScript 클릭 (겹침 우회)\n",
    "                    driver.execute_script(\"arguments[0].click();\", btn)\n",
    "                    print(f\"✅ 클릭 성공: {text}\")\n",
    "                    time.sleep(1)  # 새 해시태그 로딩 대기\n",
    "                    clicked += 1\n",
    "                    target_found = True\n",
    "                    break  # 다시 버튼 리스트 새로 고침\n",
    "                except Exception as e:\n",
    "                    print(\"⚠️ 클릭 실패:\", e)\n",
    "\n",
    "        if not target_found:\n",
    "            print(\"🔍 더 이상 클릭할 버튼 없음\")\n",
    "            break\n",
    "\n",
    "    except Exception as e:\n",
    "        print(\"❌ 예외 발생:\", e)\n",
    "        break"
   ]
  },
  {
   "cell_type": "code",
   "execution_count": 898,
   "metadata": {},
   "outputs": [
    {
     "data": {
      "text/plain": [
       "[<selenium.webdriver.remote.webelement.WebElement (session=\"3bd6cfe74706709e3265fe427391f372\", element=\"f.BC0380D032A64A3D2A9278ED2300C156.d.ECD721427250CBEAA291BAEA1643E9B1.e.436\")>,\n",
       " <selenium.webdriver.remote.webelement.WebElement (session=\"3bd6cfe74706709e3265fe427391f372\", element=\"f.BC0380D032A64A3D2A9278ED2300C156.d.ECD721427250CBEAA291BAEA1643E9B1.e.437\")>,\n",
       " <selenium.webdriver.remote.webelement.WebElement (session=\"3bd6cfe74706709e3265fe427391f372\", element=\"f.BC0380D032A64A3D2A9278ED2300C156.d.ECD721427250CBEAA291BAEA1643E9B1.e.438\")>,\n",
       " <selenium.webdriver.remote.webelement.WebElement (session=\"3bd6cfe74706709e3265fe427391f372\", element=\"f.BC0380D032A64A3D2A9278ED2300C156.d.ECD721427250CBEAA291BAEA1643E9B1.e.439\")>,\n",
       " <selenium.webdriver.remote.webelement.WebElement (session=\"3bd6cfe74706709e3265fe427391f372\", element=\"f.BC0380D032A64A3D2A9278ED2300C156.d.ECD721427250CBEAA291BAEA1643E9B1.e.440\")>,\n",
       " <selenium.webdriver.remote.webelement.WebElement (session=\"3bd6cfe74706709e3265fe427391f372\", element=\"f.BC0380D032A64A3D2A9278ED2300C156.d.ECD721427250CBEAA291BAEA1643E9B1.e.441\")>,\n",
       " <selenium.webdriver.remote.webelement.WebElement (session=\"3bd6cfe74706709e3265fe427391f372\", element=\"f.BC0380D032A64A3D2A9278ED2300C156.d.ECD721427250CBEAA291BAEA1643E9B1.e.442\")>,\n",
       " <selenium.webdriver.remote.webelement.WebElement (session=\"3bd6cfe74706709e3265fe427391f372\", element=\"f.BC0380D032A64A3D2A9278ED2300C156.d.ECD721427250CBEAA291BAEA1643E9B1.e.443\")>,\n",
       " <selenium.webdriver.remote.webelement.WebElement (session=\"3bd6cfe74706709e3265fe427391f372\", element=\"f.BC0380D032A64A3D2A9278ED2300C156.d.ECD721427250CBEAA291BAEA1643E9B1.e.444\")>,\n",
       " <selenium.webdriver.remote.webelement.WebElement (session=\"3bd6cfe74706709e3265fe427391f372\", element=\"f.BC0380D032A64A3D2A9278ED2300C156.d.ECD721427250CBEAA291BAEA1643E9B1.e.445\")>,\n",
       " <selenium.webdriver.remote.webelement.WebElement (session=\"3bd6cfe74706709e3265fe427391f372\", element=\"f.BC0380D032A64A3D2A9278ED2300C156.d.ECD721427250CBEAA291BAEA1643E9B1.e.446\")>,\n",
       " <selenium.webdriver.remote.webelement.WebElement (session=\"3bd6cfe74706709e3265fe427391f372\", element=\"f.BC0380D032A64A3D2A9278ED2300C156.d.ECD721427250CBEAA291BAEA1643E9B1.e.447\")>,\n",
       " <selenium.webdriver.remote.webelement.WebElement (session=\"3bd6cfe74706709e3265fe427391f372\", element=\"f.BC0380D032A64A3D2A9278ED2300C156.d.ECD721427250CBEAA291BAEA1643E9B1.e.448\")>,\n",
       " <selenium.webdriver.remote.webelement.WebElement (session=\"3bd6cfe74706709e3265fe427391f372\", element=\"f.BC0380D032A64A3D2A9278ED2300C156.d.ECD721427250CBEAA291BAEA1643E9B1.e.449\")>,\n",
       " <selenium.webdriver.remote.webelement.WebElement (session=\"3bd6cfe74706709e3265fe427391f372\", element=\"f.BC0380D032A64A3D2A9278ED2300C156.d.ECD721427250CBEAA291BAEA1643E9B1.e.450\")>,\n",
       " <selenium.webdriver.remote.webelement.WebElement (session=\"3bd6cfe74706709e3265fe427391f372\", element=\"f.BC0380D032A64A3D2A9278ED2300C156.d.ECD721427250CBEAA291BAEA1643E9B1.e.451\")>,\n",
       " <selenium.webdriver.remote.webelement.WebElement (session=\"3bd6cfe74706709e3265fe427391f372\", element=\"f.BC0380D032A64A3D2A9278ED2300C156.d.ECD721427250CBEAA291BAEA1643E9B1.e.452\")>,\n",
       " <selenium.webdriver.remote.webelement.WebElement (session=\"3bd6cfe74706709e3265fe427391f372\", element=\"f.BC0380D032A64A3D2A9278ED2300C156.d.ECD721427250CBEAA291BAEA1643E9B1.e.453\")>,\n",
       " <selenium.webdriver.remote.webelement.WebElement (session=\"3bd6cfe74706709e3265fe427391f372\", element=\"f.BC0380D032A64A3D2A9278ED2300C156.d.ECD721427250CBEAA291BAEA1643E9B1.e.454\")>,\n",
       " <selenium.webdriver.remote.webelement.WebElement (session=\"3bd6cfe74706709e3265fe427391f372\", element=\"f.BC0380D032A64A3D2A9278ED2300C156.d.ECD721427250CBEAA291BAEA1643E9B1.e.455\")>,\n",
       " <selenium.webdriver.remote.webelement.WebElement (session=\"3bd6cfe74706709e3265fe427391f372\", element=\"f.BC0380D032A64A3D2A9278ED2300C156.d.ECD721427250CBEAA291BAEA1643E9B1.e.456\")>,\n",
       " <selenium.webdriver.remote.webelement.WebElement (session=\"3bd6cfe74706709e3265fe427391f372\", element=\"f.BC0380D032A64A3D2A9278ED2300C156.d.ECD721427250CBEAA291BAEA1643E9B1.e.457\")>,\n",
       " <selenium.webdriver.remote.webelement.WebElement (session=\"3bd6cfe74706709e3265fe427391f372\", element=\"f.BC0380D032A64A3D2A9278ED2300C156.d.ECD721427250CBEAA291BAEA1643E9B1.e.458\")>,\n",
       " <selenium.webdriver.remote.webelement.WebElement (session=\"3bd6cfe74706709e3265fe427391f372\", element=\"f.BC0380D032A64A3D2A9278ED2300C156.d.ECD721427250CBEAA291BAEA1643E9B1.e.459\")>,\n",
       " <selenium.webdriver.remote.webelement.WebElement (session=\"3bd6cfe74706709e3265fe427391f372\", element=\"f.BC0380D032A64A3D2A9278ED2300C156.d.ECD721427250CBEAA291BAEA1643E9B1.e.460\")>,\n",
       " <selenium.webdriver.remote.webelement.WebElement (session=\"3bd6cfe74706709e3265fe427391f372\", element=\"f.BC0380D032A64A3D2A9278ED2300C156.d.ECD721427250CBEAA291BAEA1643E9B1.e.461\")>,\n",
       " <selenium.webdriver.remote.webelement.WebElement (session=\"3bd6cfe74706709e3265fe427391f372\", element=\"f.BC0380D032A64A3D2A9278ED2300C156.d.ECD721427250CBEAA291BAEA1643E9B1.e.462\")>,\n",
       " <selenium.webdriver.remote.webelement.WebElement (session=\"3bd6cfe74706709e3265fe427391f372\", element=\"f.BC0380D032A64A3D2A9278ED2300C156.d.ECD721427250CBEAA291BAEA1643E9B1.e.463\")>,\n",
       " <selenium.webdriver.remote.webelement.WebElement (session=\"3bd6cfe74706709e3265fe427391f372\", element=\"f.BC0380D032A64A3D2A9278ED2300C156.d.ECD721427250CBEAA291BAEA1643E9B1.e.464\")>,\n",
       " <selenium.webdriver.remote.webelement.WebElement (session=\"3bd6cfe74706709e3265fe427391f372\", element=\"f.BC0380D032A64A3D2A9278ED2300C156.d.ECD721427250CBEAA291BAEA1643E9B1.e.465\")>,\n",
       " <selenium.webdriver.remote.webelement.WebElement (session=\"3bd6cfe74706709e3265fe427391f372\", element=\"f.BC0380D032A64A3D2A9278ED2300C156.d.ECD721427250CBEAA291BAEA1643E9B1.e.466\")>,\n",
       " <selenium.webdriver.remote.webelement.WebElement (session=\"3bd6cfe74706709e3265fe427391f372\", element=\"f.BC0380D032A64A3D2A9278ED2300C156.d.ECD721427250CBEAA291BAEA1643E9B1.e.467\")>]"
      ]
     },
     "execution_count": 898,
     "metadata": {},
     "output_type": "execute_result"
    }
   ],
   "source": [
    "tag_elements = driver.find_elements(By.CSS_SELECTOR,\".pui__jhpEyP\")\n",
    "tag_elements"
   ]
  },
  {
   "cell_type": "code",
   "execution_count": 899,
   "metadata": {},
   "outputs": [
    {
     "name": "stdout",
     "output_type": "stream",
     "text": [
      "['커피가 맛있어요', '대화하기 좋아요', '아늑해요', '친절해요', '매장이 청결해요', '커피가 맛있어요', '아늑해요', '야외공간이 멋져요', '커피가 맛있어요', '커피가 맛있어요', '특별한 메뉴가 있어요', '친절해요', '대화하기 좋아요', '아늑해요', '커피가 맛있어요', '커피가 맛있어요', '커피가 맛있어요', '디저트가 맛있어요', '친절해요', '인테리어가 멋져요', '사진이 잘 나와요', '커피가 맛있어요', '디저트가 맛있어요', '커피가 맛있어요', '디저트가 맛있어요', '음료가 맛있어요', '가성비가 좋아요', '친절해요', '커피가 맛있어요', '특별한 메뉴가 있어요', '친절해요', '매장이 청결해요']\n"
     ]
    }
   ],
   "source": [
    "tag = [] \n",
    "\n",
    "for i in tag_elements:\n",
    "    text = i.text.strip()  # 혹시 모를 공백 제거\n",
    "\n",
    "    # ✅ 제외할 문자열 목록\n",
    "    unwanted_texts = [\"개의 리뷰가 더 있습니다.\", \"펼쳐보기\"]\n",
    "    \n",
    "    # ✅ `+숫자` 패턴 제거\n",
    "    if text.startswith(\"+\") or text in unwanted_texts:\n",
    "        continue  # 필요 없는 데이터는 추가하지 않음\n",
    "\n",
    "    tag.append(text)  # 필터링된 텍스트만 저장\n",
    "\n",
    "print(tag)  # 최종 리스트 출력"
   ]
  },
  {
   "cell_type": "code",
   "execution_count": 900,
   "metadata": {},
   "outputs": [
    {
     "data": {
      "text/plain": [
       "[<selenium.webdriver.remote.webelement.WebElement (session=\"3bd6cfe74706709e3265fe427391f372\", element=\"f.BC0380D032A64A3D2A9278ED2300C156.d.ECD721427250CBEAA291BAEA1643E9B1.e.468\")>,\n",
       " <selenium.webdriver.remote.webelement.WebElement (session=\"3bd6cfe74706709e3265fe427391f372\", element=\"f.BC0380D032A64A3D2A9278ED2300C156.d.ECD721427250CBEAA291BAEA1643E9B1.e.469\")>,\n",
       " <selenium.webdriver.remote.webelement.WebElement (session=\"3bd6cfe74706709e3265fe427391f372\", element=\"f.BC0380D032A64A3D2A9278ED2300C156.d.ECD721427250CBEAA291BAEA1643E9B1.e.470\")>,\n",
       " <selenium.webdriver.remote.webelement.WebElement (session=\"3bd6cfe74706709e3265fe427391f372\", element=\"f.BC0380D032A64A3D2A9278ED2300C156.d.ECD721427250CBEAA291BAEA1643E9B1.e.471\")>,\n",
       " <selenium.webdriver.remote.webelement.WebElement (session=\"3bd6cfe74706709e3265fe427391f372\", element=\"f.BC0380D032A64A3D2A9278ED2300C156.d.ECD721427250CBEAA291BAEA1643E9B1.e.472\")>,\n",
       " <selenium.webdriver.remote.webelement.WebElement (session=\"3bd6cfe74706709e3265fe427391f372\", element=\"f.BC0380D032A64A3D2A9278ED2300C156.d.ECD721427250CBEAA291BAEA1643E9B1.e.473\")>,\n",
       " <selenium.webdriver.remote.webelement.WebElement (session=\"3bd6cfe74706709e3265fe427391f372\", element=\"f.BC0380D032A64A3D2A9278ED2300C156.d.ECD721427250CBEAA291BAEA1643E9B1.e.474\")>,\n",
       " <selenium.webdriver.remote.webelement.WebElement (session=\"3bd6cfe74706709e3265fe427391f372\", element=\"f.BC0380D032A64A3D2A9278ED2300C156.d.ECD721427250CBEAA291BAEA1643E9B1.e.237\")>,\n",
       " <selenium.webdriver.remote.webelement.WebElement (session=\"3bd6cfe74706709e3265fe427391f372\", element=\"f.BC0380D032A64A3D2A9278ED2300C156.d.ECD721427250CBEAA291BAEA1643E9B1.e.435\")>,\n",
       " <selenium.webdriver.remote.webelement.WebElement (session=\"3bd6cfe74706709e3265fe427391f372\", element=\"f.BC0380D032A64A3D2A9278ED2300C156.d.ECD721427250CBEAA291BAEA1643E9B1.e.260\")>]"
      ]
     },
     "execution_count": 900,
     "metadata": {},
     "output_type": "execute_result"
    }
   ],
   "source": [
    "tag_elements =driver.find_elements(By.CSS_SELECTOR,\".pui__HLNvmI\")\n",
    "tag_elements"
   ]
  },
  {
   "cell_type": "code",
   "execution_count": 901,
   "metadata": {},
   "outputs": [],
   "source": [
    "import numpy as np\n",
    "\n",
    "tag = []  # 전체 리뷰 저장 (각 리뷰별 해시태그 리스트)\n",
    "\n",
    "\n",
    "review_elements = driver.find_elements(By.CSS_SELECTOR, \".pui__HLNvmI\")  # ← 리뷰 단위 블록 클래스 수정 필요\n",
    "for review in review_elements:\n",
    "    tag_list = []  # 개별 리뷰의 해시태그 리스트\n",
    "\n",
    "    \n",
    "    hashtag_elements = review.find_elements(By.CSS_SELECTOR, \".pui__jhpEyP\") \n",
    "\n",
    "    for tag_element in hashtag_elements:\n",
    "        text = tag_element.text.strip()\n",
    "        unwanted_texts = [\"개의 리뷰가 더 있습니다.\", \"펼쳐보기\"]\n",
    "\n",
    "        if text.startswith(\"+\") or text in unwanted_texts:\n",
    "            continue  # 불필요한 텍스트 제거\n",
    "\n",
    "        tag_list.append(text)\n",
    "\n",
    "    \n",
    "    tag_list += [np.nan] * (5 - len(tag_list))\n",
    "\n",
    "    \n",
    "    tag.append(tag_list)\n",
    "\n",
    "\n",
    "\n"
   ]
  },
  {
   "cell_type": "markdown",
   "metadata": {},
   "source": [
    "## store_name=  가게 이름\n",
    "## visitor = 리뷰작성자/리뷰작성자 정보\n",
    "## user_info = 리뷰별 방문시간\n",
    "## pluses  = 리뷰별 해시태그 종합\n",
    "## VISIT_COUNT = 방문횟수\n",
    "# tag =  리뷰별 해시태그\n"
   ]
  },
  {
   "cell_type": "code",
   "execution_count": 902,
   "metadata": {},
   "outputs": [
    {
     "data": {
      "text/plain": [
       "[<selenium.webdriver.remote.webelement.WebElement (session=\"3bd6cfe74706709e3265fe427391f372\", element=\"f.BC0380D032A64A3D2A9278ED2300C156.d.ECD721427250CBEAA291BAEA1643E9B1.e.475\")>,\n",
       " <selenium.webdriver.remote.webelement.WebElement (session=\"3bd6cfe74706709e3265fe427391f372\", element=\"f.BC0380D032A64A3D2A9278ED2300C156.d.ECD721427250CBEAA291BAEA1643E9B1.e.476\")>,\n",
       " <selenium.webdriver.remote.webelement.WebElement (session=\"3bd6cfe74706709e3265fe427391f372\", element=\"f.BC0380D032A64A3D2A9278ED2300C156.d.ECD721427250CBEAA291BAEA1643E9B1.e.477\")>,\n",
       " <selenium.webdriver.remote.webelement.WebElement (session=\"3bd6cfe74706709e3265fe427391f372\", element=\"f.BC0380D032A64A3D2A9278ED2300C156.d.ECD721427250CBEAA291BAEA1643E9B1.e.478\")>,\n",
       " <selenium.webdriver.remote.webelement.WebElement (session=\"3bd6cfe74706709e3265fe427391f372\", element=\"f.BC0380D032A64A3D2A9278ED2300C156.d.ECD721427250CBEAA291BAEA1643E9B1.e.479\")>,\n",
       " <selenium.webdriver.remote.webelement.WebElement (session=\"3bd6cfe74706709e3265fe427391f372\", element=\"f.BC0380D032A64A3D2A9278ED2300C156.d.ECD721427250CBEAA291BAEA1643E9B1.e.480\")>,\n",
       " <selenium.webdriver.remote.webelement.WebElement (session=\"3bd6cfe74706709e3265fe427391f372\", element=\"f.BC0380D032A64A3D2A9278ED2300C156.d.ECD721427250CBEAA291BAEA1643E9B1.e.481\")>,\n",
       " <selenium.webdriver.remote.webelement.WebElement (session=\"3bd6cfe74706709e3265fe427391f372\", element=\"f.BC0380D032A64A3D2A9278ED2300C156.d.ECD721427250CBEAA291BAEA1643E9B1.e.236\")>,\n",
       " <selenium.webdriver.remote.webelement.WebElement (session=\"3bd6cfe74706709e3265fe427391f372\", element=\"f.BC0380D032A64A3D2A9278ED2300C156.d.ECD721427250CBEAA291BAEA1643E9B1.e.434\")>,\n",
       " <selenium.webdriver.remote.webelement.WebElement (session=\"3bd6cfe74706709e3265fe427391f372\", element=\"f.BC0380D032A64A3D2A9278ED2300C156.d.ECD721427250CBEAA291BAEA1643E9B1.e.259\")>]"
      ]
     },
     "execution_count": 902,
     "metadata": {},
     "output_type": "execute_result"
    }
   ],
   "source": [
    "review_elements = driver.find_elements(By.CSS_SELECTOR,\".pui__vn15t2\")\n",
    "review_elements"
   ]
  },
  {
   "cell_type": "code",
   "execution_count": 903,
   "metadata": {},
   "outputs": [
    {
     "name": "stdout",
     "output_type": "stream",
     "text": [
      "예전에 앞산 있을 때 한 번 가보구\n",
      "옮기고는 첨 와봤는데 가게 아늑하니 좋더라구요!\n",
      "점심쯤가니 근처 직장인 손님이 많아서 신기했어요ㅎㅎㅎ\n",
      "커피도 넘 맛있었어요 !!\n",
      "접기\n",
      "커피 맛있어요! :-)\n",
      "달게만든 라떼메뉴는 아무리 맛있어도 끝맛이 텁텁한 경우가있는데 달고 부드러우면서 얼음이 녹은 끝까지도 커피가 텁텁하지 않았어용!\n",
      "오늘은 친구랑 같이갔지만 가볍게 혼자와서 커피한잔하기에 좋은 분위기에요:)\n",
      "접기\n",
      "커피 맛있습니다.\n",
      "아이스크림도 맛있습니다.\n",
      "새해맞이 컵 너무 예뻐요ㅠㅠ\n",
      "언제나 일등 커피맛집...🥹❤\n",
      "컵 홀더 컵 넘 이뻐요\n",
      "라떼가 맛있어요\n",
      "구움과자 맛있어서 종류별로 샀어요\n",
      "외관이 정말 눈에 확 들어와요!!. 커피를 직접 블랜딩 하는 곳이라서. 커피가 정말 맛있었습니다.!!\n",
      "인근 직장인 분들은 가까워서 자주 갈 수 있어서 부러워요><\n",
      "접기\n",
      "커피가 맛있어요\n",
      "역시 라떼 맛집 ••• ♥ 넘 넘 맛있어요 ᵒ̴̶̷̥́ ·̫ ᵒ̴̶̷̣̥̀\n",
      "에이엣디 우리집 앞에 있으면 좋겠어요... (´▽`ʃƪ)♡\n"
     ]
    }
   ],
   "source": [
    "review = []\n",
    "\n",
    "for i in review_elements:\n",
    "    print(i.text)\n",
    "    review.append(i.text)"
   ]
  },
  {
   "cell_type": "code",
   "execution_count": 904,
   "metadata": {},
   "outputs": [],
   "source": [
    "import pandas as pd\n",
    "from itertools import zip_longest\n",
    "\n",
    "store_name_fixed = [store_name[0]] * len(VISIT_COUNT)\n",
    "\n",
    "data = list(zip_longest(store_name_fixed,visitor,user_info,VISIT_COUNT,review,tag,fillvalue=None))\n",
    "df = pd.DataFrame(data,columns=['STORE_NAME','VISITOR','USER_INFO','VISIT_COUNT','REVIEW','TAG'])"
   ]
  },
  {
   "cell_type": "code",
   "execution_count": 905,
   "metadata": {},
   "outputs": [
    {
     "data": {
      "text/html": [
       "<div>\n",
       "<style scoped>\n",
       "    .dataframe tbody tr th:only-of-type {\n",
       "        vertical-align: middle;\n",
       "    }\n",
       "\n",
       "    .dataframe tbody tr th {\n",
       "        vertical-align: top;\n",
       "    }\n",
       "\n",
       "    .dataframe thead th {\n",
       "        text-align: right;\n",
       "    }\n",
       "</style>\n",
       "<table border=\"1\" class=\"dataframe\">\n",
       "  <thead>\n",
       "    <tr style=\"text-align: right;\">\n",
       "      <th></th>\n",
       "      <th>STORE_NAME</th>\n",
       "      <th>VISITOR</th>\n",
       "      <th>USER_INFO</th>\n",
       "      <th>VISIT_COUNT</th>\n",
       "      <th>REVIEW</th>\n",
       "      <th>TAG</th>\n",
       "    </tr>\n",
       "  </thead>\n",
       "  <tbody>\n",
       "    <tr>\n",
       "      <th>0</th>\n",
       "      <td>에이엣디커피브루어스</td>\n",
       "      <td>쑥 쑤기\\n리뷰 236사진 677팔로워 17테마 1</td>\n",
       "      <td>[점심에 방문, 예약 없이 이용, 바로 입장, 나들이, 일상, nan]</td>\n",
       "      <td>1번째 방문</td>\n",
       "      <td>예전에 앞산 있을 때 한 번 가보구\\n옮기고는 첨 와봤는데 가게 아늑하니 좋더라구요...</td>\n",
       "      <td>[커피가 맛있어요, 대화하기 좋아요, 아늑해요, 친절해요, nan]</td>\n",
       "    </tr>\n",
       "    <tr>\n",
       "      <th>1</th>\n",
       "      <td>에이엣디커피브루어스</td>\n",
       "      <td>papang\\n리뷰 5사진 8</td>\n",
       "      <td>[점심에 방문, 예약 없이 이용, 바로 입장, 일상, 친구]</td>\n",
       "      <td>1번째 방문</td>\n",
       "      <td>커피 맛있어요! :-)\\n달게만든 라떼메뉴는 아무리 맛있어도 끝맛이 텁텁한 경우가있...</td>\n",
       "      <td>[매장이 청결해요, 커피가 맛있어요, 아늑해요, 야외공간이 멋져요, nan]</td>\n",
       "    </tr>\n",
       "    <tr>\n",
       "      <th>2</th>\n",
       "      <td>에이엣디커피브루어스</td>\n",
       "      <td>godgujb\\n리뷰 362사진 101팔로워 14테마 1</td>\n",
       "      <td>[점심에 방문, 예약 없이 이용, 바로 입장, 일상, 친구]</td>\n",
       "      <td>3번째 방문</td>\n",
       "      <td>커피 맛있습니다.\\n아이스크림도 맛있습니다.</td>\n",
       "      <td>[커피가 맛있어요, nan, nan, nan, nan]</td>\n",
       "    </tr>\n",
       "    <tr>\n",
       "      <th>3</th>\n",
       "      <td>에이엣디커피브루어스</td>\n",
       "      <td>설탕슈박\\n리뷰 13사진 11</td>\n",
       "      <td>[점심에 방문, 예약 없이 이용, 바로 입장, 친목, 친구]</td>\n",
       "      <td>5번째 방문</td>\n",
       "      <td>새해맞이 컵 너무 예뻐요ㅠㅠ\\n언제나 일등 커피맛집...🥹❤</td>\n",
       "      <td>[커피가 맛있어요, 특별한 메뉴가 있어요, 친절해요, 대화하기 좋아요, 아늑해요]</td>\n",
       "    </tr>\n",
       "    <tr>\n",
       "      <th>4</th>\n",
       "      <td>에이엣디커피브루어스</td>\n",
       "      <td>Happyminmk\\n리뷰 2,767사진 7,775팔로워 102</td>\n",
       "      <td>[점심에 방문, 예약 없이 이용, 바로 입장, nan, nan]</td>\n",
       "      <td>1번째 방문</td>\n",
       "      <td>컵 홀더 컵 넘 이뻐요</td>\n",
       "      <td>[커피가 맛있어요, nan, nan, nan, nan]</td>\n",
       "    </tr>\n",
       "    <tr>\n",
       "      <th>5</th>\n",
       "      <td>에이엣디커피브루어스</td>\n",
       "      <td>00000siri\\n리뷰 728사진 371</td>\n",
       "      <td>[점심에 방문, 예약 없이 이용, 바로 입장, 일상, 연인・배우자]</td>\n",
       "      <td>1번째 방문</td>\n",
       "      <td>라떼가 맛있어요</td>\n",
       "      <td>[커피가 맛있어요, nan, nan, nan, nan]</td>\n",
       "    </tr>\n",
       "    <tr>\n",
       "      <th>6</th>\n",
       "      <td>에이엣디커피브루어스</td>\n",
       "      <td>후잇후잇\\n리뷰 74사진 85</td>\n",
       "      <td>[점심에 방문, 예약 없이 이용, 바로 입장, 데이트, nan]</td>\n",
       "      <td>1번째 방문</td>\n",
       "      <td>구움과자 맛있어서 종류별로 샀어요</td>\n",
       "      <td>[커피가 맛있어요, 디저트가 맛있어요, nan, nan, nan]</td>\n",
       "    </tr>\n",
       "    <tr>\n",
       "      <th>7</th>\n",
       "      <td>에이엣디커피브루어스</td>\n",
       "      <td>캐슬이의 공간\\n리뷰 753사진 2,202팔로워 63</td>\n",
       "      <td>[점심에 방문, 예약 없이 이용, 바로 입장, 데이트, nan]</td>\n",
       "      <td>1번째 방문</td>\n",
       "      <td>외관이 정말 눈에 확 들어와요!!. 커피를 직접 블랜딩 하는 곳이라서. 커피가 정말...</td>\n",
       "      <td>[친절해요, 인테리어가 멋져요, 사진이 잘 나와요, 커피가 맛있어요, 디저트가 맛있어요]</td>\n",
       "    </tr>\n",
       "    <tr>\n",
       "      <th>8</th>\n",
       "      <td>에이엣디커피브루어스</td>\n",
       "      <td>jun****\\n리뷰 2,332사진 269</td>\n",
       "      <td>[점심에 방문, 포장·배달 이용, 10분 이내, 일상, nan]</td>\n",
       "      <td>19번째 방문</td>\n",
       "      <td>커피가 맛있어요</td>\n",
       "      <td>[커피가 맛있어요, 디저트가 맛있어요, 음료가 맛있어요, 가성비가 좋아요, 친절해요]</td>\n",
       "    </tr>\n",
       "    <tr>\n",
       "      <th>9</th>\n",
       "      <td>에이엣디커피브루어스</td>\n",
       "      <td>설탕슈박\\n리뷰 13사진 11</td>\n",
       "      <td>[아침에 방문, 예약 없이 이용, 바로 입장, 일상, 친구]</td>\n",
       "      <td>3번째 방문</td>\n",
       "      <td>역시 라떼 맛집 ••• ♥ 넘 넘 맛있어요 ᵒ̴̶̷̥́ ·̫ ᵒ̴̶̷̣̥̀\\n에이엣...</td>\n",
       "      <td>[커피가 맛있어요, 특별한 메뉴가 있어요, 친절해요, 매장이 청결해요, nan]</td>\n",
       "    </tr>\n",
       "  </tbody>\n",
       "</table>\n",
       "</div>"
      ],
      "text/plain": [
       "   STORE_NAME                              VISITOR  \\\n",
       "0  에이엣디커피브루어스         쑥 쑤기\\n리뷰 236사진 677팔로워 17테마 1   \n",
       "1  에이엣디커피브루어스                     papang\\n리뷰 5사진 8   \n",
       "2  에이엣디커피브루어스      godgujb\\n리뷰 362사진 101팔로워 14테마 1   \n",
       "3  에이엣디커피브루어스                     설탕슈박\\n리뷰 13사진 11   \n",
       "4  에이엣디커피브루어스  Happyminmk\\n리뷰 2,767사진 7,775팔로워 102   \n",
       "5  에이엣디커피브루어스              00000siri\\n리뷰 728사진 371   \n",
       "6  에이엣디커피브루어스                     후잇후잇\\n리뷰 74사진 85   \n",
       "7  에이엣디커피브루어스        캐슬이의 공간\\n리뷰 753사진 2,202팔로워 63   \n",
       "8  에이엣디커피브루어스              jun****\\n리뷰 2,332사진 269   \n",
       "9  에이엣디커피브루어스                     설탕슈박\\n리뷰 13사진 11   \n",
       "\n",
       "                                 USER_INFO VISIT_COUNT  \\\n",
       "0  [점심에 방문, 예약 없이 이용, 바로 입장, 나들이, 일상, nan]      1번째 방문   \n",
       "1        [점심에 방문, 예약 없이 이용, 바로 입장, 일상, 친구]      1번째 방문   \n",
       "2        [점심에 방문, 예약 없이 이용, 바로 입장, 일상, 친구]      3번째 방문   \n",
       "3        [점심에 방문, 예약 없이 이용, 바로 입장, 친목, 친구]      5번째 방문   \n",
       "4      [점심에 방문, 예약 없이 이용, 바로 입장, nan, nan]      1번째 방문   \n",
       "5    [점심에 방문, 예약 없이 이용, 바로 입장, 일상, 연인・배우자]      1번째 방문   \n",
       "6      [점심에 방문, 예약 없이 이용, 바로 입장, 데이트, nan]      1번째 방문   \n",
       "7      [점심에 방문, 예약 없이 이용, 바로 입장, 데이트, nan]      1번째 방문   \n",
       "8      [점심에 방문, 포장·배달 이용, 10분 이내, 일상, nan]     19번째 방문   \n",
       "9        [아침에 방문, 예약 없이 이용, 바로 입장, 일상, 친구]      3번째 방문   \n",
       "\n",
       "                                              REVIEW  \\\n",
       "0  예전에 앞산 있을 때 한 번 가보구\\n옮기고는 첨 와봤는데 가게 아늑하니 좋더라구요...   \n",
       "1  커피 맛있어요! :-)\\n달게만든 라떼메뉴는 아무리 맛있어도 끝맛이 텁텁한 경우가있...   \n",
       "2                           커피 맛있습니다.\\n아이스크림도 맛있습니다.   \n",
       "3                  새해맞이 컵 너무 예뻐요ㅠㅠ\\n언제나 일등 커피맛집...🥹❤   \n",
       "4                                       컵 홀더 컵 넘 이뻐요   \n",
       "5                                           라떼가 맛있어요   \n",
       "6                                 구움과자 맛있어서 종류별로 샀어요   \n",
       "7  외관이 정말 눈에 확 들어와요!!. 커피를 직접 블랜딩 하는 곳이라서. 커피가 정말...   \n",
       "8                                           커피가 맛있어요   \n",
       "9  역시 라떼 맛집 ••• ♥ 넘 넘 맛있어요 ᵒ̴̶̷̥́ ·̫ ᵒ̴̶̷̣̥̀\\n에이엣...   \n",
       "\n",
       "                                                 TAG  \n",
       "0              [커피가 맛있어요, 대화하기 좋아요, 아늑해요, 친절해요, nan]  \n",
       "1         [매장이 청결해요, 커피가 맛있어요, 아늑해요, 야외공간이 멋져요, nan]  \n",
       "2                     [커피가 맛있어요, nan, nan, nan, nan]  \n",
       "3      [커피가 맛있어요, 특별한 메뉴가 있어요, 친절해요, 대화하기 좋아요, 아늑해요]  \n",
       "4                     [커피가 맛있어요, nan, nan, nan, nan]  \n",
       "5                     [커피가 맛있어요, nan, nan, nan, nan]  \n",
       "6               [커피가 맛있어요, 디저트가 맛있어요, nan, nan, nan]  \n",
       "7  [친절해요, 인테리어가 멋져요, 사진이 잘 나와요, 커피가 맛있어요, 디저트가 맛있어요]  \n",
       "8    [커피가 맛있어요, 디저트가 맛있어요, 음료가 맛있어요, 가성비가 좋아요, 친절해요]  \n",
       "9       [커피가 맛있어요, 특별한 메뉴가 있어요, 친절해요, 매장이 청결해요, nan]  "
      ]
     },
     "execution_count": 905,
     "metadata": {},
     "output_type": "execute_result"
    }
   ],
   "source": [
    "df"
   ]
  },
  {
   "cell_type": "code",
   "execution_count": 906,
   "metadata": {},
   "outputs": [],
   "source": [
    "df.to_csv(f'{'오백국수 대구MBC점_리뷰'}.csv',index=False,encoding='utf-8-sig')"
   ]
  },
  {
   "cell_type": "code",
   "execution_count": null,
   "metadata": {},
   "outputs": [],
   "source": []
  }
 ],
 "metadata": {
  "kernelspec": {
   "display_name": "env312_cpu_v1",
   "language": "python",
   "name": "python3"
  },
  "language_info": {
   "codemirror_mode": {
    "name": "ipython",
    "version": 3
   },
   "file_extension": ".py",
   "mimetype": "text/x-python",
   "name": "python",
   "nbconvert_exporter": "python",
   "pygments_lexer": "ipython3",
   "version": "3.12.9"
  }
 },
 "nbformat": 4,
 "nbformat_minor": 2
}
