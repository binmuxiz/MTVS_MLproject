{
 "cells": [
  {
   "cell_type": "code",
   "execution_count": 1605,
   "metadata": {},
   "outputs": [],
   "source": [
    "from selenium import webdriver \n",
    "from selenium.webdriver.common.by import By\n",
    "from selenium.webdriver.common.keys import Keys\n",
    "import time\n",
    "import json\n",
    "import requests\n",
    "from bs4 import BeautifulSoup\n",
    "from selenium.webdriver.chrome.service import Service\n",
    "from webdriver_manager.chrome import ChromeDriverManager\n",
    "from selenium.webdriver.support.ui import WebDriverWait\n",
    "from selenium.webdriver.support import expected_conditions as EC\n",
    "import pandas as pd\n",
    "from itertools import zip_longest"
   ]
  },
  {
   "cell_type": "code",
   "execution_count": 1606,
   "metadata": {},
   "outputs": [],
   "source": [
    "chrom_options = webdriver.ChromeOptions()\n",
    "chrom_options.add_experimental_option('detach', True)\n",
    "chrom_options.add_argument(\"user-agent=Mozilla/5.0 (Windows NT 10.0; Win64; x64) AppleWebKit/537.36 (KHTML, like Gecko) Chrome/134.0.0.0 Safari/537.36\")\n",
    "driver = webdriver.Chrome(service=Service(ChromeDriverManager().install()), \n",
    "                          options=chrom_options)"
   ]
  },
  {
   "cell_type": "code",
   "execution_count": null,
   "metadata": {},
   "outputs": [],
   "source": [
    "url = \"https://map.naver.com/p/search/%EC%98%A4%EC%95%BC%EC%B8%A0%ED%83%80%EC%BD%94/place/1256573788?c=15.00,0,0,0,dh&placePath=%3Fentry%253Dbmp\"\n",
    "driver.get(url)\n",
    "driver.implicitly_wait(5)"
   ]
  },
  {
   "cell_type": "code",
   "execution_count": 1608,
   "metadata": {},
   "outputs": [
    {
     "data": {
      "text/plain": [
       "True"
      ]
     },
     "execution_count": 1608,
     "metadata": {},
     "output_type": "execute_result"
    }
   ],
   "source": [
    "WebDriverWait(driver, 10).until(\n",
    "    EC.frame_to_be_available_and_switch_to_it((By.ID, \"entryIframe\"))\n",
    ")\n"
   ]
  },
  {
   "cell_type": "code",
   "execution_count": 1609,
   "metadata": {},
   "outputs": [],
   "source": [
    "# 결과 저장용 DataFrame 생성\n",
    "naver_restaurants = pd.DataFrame(columns=['식당명', '카테고리', '주소', '영업시간'])"
   ]
  },
  {
   "cell_type": "code",
   "execution_count": 1610,
   "metadata": {},
   "outputs": [
    {
     "data": {
      "text/plain": [
       "[<selenium.webdriver.remote.webelement.WebElement (session=\"d786338414f4122a59066a029d99552f\", element=\"f.CE0C71C519BBD1D7F11D2F78727F8C81.d.1A24775C8716CDE75796E0D3A23E4755.e.119\")>]"
      ]
     },
     "execution_count": 1610,
     "metadata": {},
     "output_type": "execute_result"
    }
   ],
   "source": [
    "name_elements = driver.find_elements(By.CSS_SELECTOR,\".GHAhO\")\n",
    "name_elements"
   ]
  },
  {
   "cell_type": "code",
   "execution_count": 1611,
   "metadata": {},
   "outputs": [
    {
     "name": "stdout",
     "output_type": "stream",
     "text": [
      "바다이야기\n"
     ]
    }
   ],
   "source": [
    "STORE_NAME=[]\n",
    "for i in name_elements:\n",
    "    print(i.text)\n",
    "    STORE_NAME.append(i.text)\n",
    "naver_restaurants['식당명'] = STORE_NAME"
   ]
  },
  {
   "cell_type": "code",
   "execution_count": 1612,
   "metadata": {},
   "outputs": [
    {
     "data": {
      "text/plain": [
       "[<selenium.webdriver.remote.webelement.WebElement (session=\"d786338414f4122a59066a029d99552f\", element=\"f.CE0C71C519BBD1D7F11D2F78727F8C81.d.1A24775C8716CDE75796E0D3A23E4755.e.120\")>]"
      ]
     },
     "execution_count": 1612,
     "metadata": {},
     "output_type": "execute_result"
    }
   ],
   "source": [
    "Category_element = driver.find_elements(By.CSS_SELECTOR,\".lnJFt\")\n",
    "Category_element"
   ]
  },
  {
   "cell_type": "code",
   "execution_count": 1613,
   "metadata": {},
   "outputs": [
    {
     "name": "stdout",
     "output_type": "stream",
     "text": [
      "조개요리\n"
     ]
    }
   ],
   "source": [
    "STORE_Category=[]\n",
    "\n",
    "for i in Category_element:\n",
    "    print(i.text)\n",
    "    name4csv=i.text\n",
    "    STORE_Category.append(i.text)\n",
    "naver_restaurants['카테고리'] = STORE_Category"
   ]
  },
  {
   "cell_type": "code",
   "execution_count": 1614,
   "metadata": {},
   "outputs": [
    {
     "data": {
      "text/plain": [
       "True"
      ]
     },
     "execution_count": 1614,
     "metadata": {},
     "output_type": "execute_result"
    }
   ],
   "source": [
    "driver.get(url)\n",
    "driver.implicitly_wait(5)\n",
    "WebDriverWait(driver, 10).until(\n",
    "    EC.frame_to_be_available_and_switch_to_it((By.ID, \"entryIframe\"))\n",
    ")"
   ]
  },
  {
   "cell_type": "code",
   "execution_count": 1615,
   "metadata": {},
   "outputs": [
    {
     "data": {
      "text/plain": [
       "[<selenium.webdriver.remote.webelement.WebElement (session=\"d786338414f4122a59066a029d99552f\", element=\"f.8481593E0EFF92B57CB0EAF8201DBC1E.d.A85800AC5865BA014471494160105409.e.231\")>]"
      ]
     },
     "execution_count": 1615,
     "metadata": {},
     "output_type": "execute_result"
    }
   ],
   "source": [
    "address_elements = driver.find_elements(By.CSS_SELECTOR,\".LDgIH\")\n",
    "address_elements"
   ]
  },
  {
   "cell_type": "code",
   "execution_count": 1616,
   "metadata": {},
   "outputs": [
    {
     "name": "stdout",
     "output_type": "stream",
     "text": [
      "대구 동구 동부로30길 42-1\n"
     ]
    }
   ],
   "source": [
    "STORE_Address=[]\n",
    "for i in address_elements:\n",
    "    print(i.text)\n",
    "    STORE_Address.append(i.text)\n",
    "naver_restaurants['주소'] = STORE_Address"
   ]
  },
  {
   "cell_type": "code",
   "execution_count": 1617,
   "metadata": {},
   "outputs": [
    {
     "data": {
      "text/plain": [
       "True"
      ]
     },
     "execution_count": 1617,
     "metadata": {},
     "output_type": "execute_result"
    }
   ],
   "source": [
    "driver.get(url)\n",
    "driver.implicitly_wait(5)\n",
    "WebDriverWait(driver, 10).until(\n",
    "    EC.frame_to_be_available_and_switch_to_it((By.ID, \"entryIframe\"))\n",
    ")"
   ]
  },
  {
   "cell_type": "code",
   "execution_count": 1618,
   "metadata": {},
   "outputs": [],
   "source": [
    "buttons = driver.find_elements(By.CSS_SELECTOR, \"._UCia\")\n",
    "buttons[1].click()"
   ]
  },
  {
   "cell_type": "code",
   "execution_count": 1619,
   "metadata": {},
   "outputs": [
    {
     "data": {
      "text/plain": [
       "[<selenium.webdriver.remote.webelement.WebElement (session=\"d786338414f4122a59066a029d99552f\", element=\"f.4A28A326BCC328EAA26C2A7488D4C5B3.d.D5BFBCF323938611CB2D93B54E183E90.e.357\")>,\n",
       " <selenium.webdriver.remote.webelement.WebElement (session=\"d786338414f4122a59066a029d99552f\", element=\"f.4A28A326BCC328EAA26C2A7488D4C5B3.d.D5BFBCF323938611CB2D93B54E183E90.e.358\")>,\n",
       " <selenium.webdriver.remote.webelement.WebElement (session=\"d786338414f4122a59066a029d99552f\", element=\"f.4A28A326BCC328EAA26C2A7488D4C5B3.d.D5BFBCF323938611CB2D93B54E183E90.e.359\")>,\n",
       " <selenium.webdriver.remote.webelement.WebElement (session=\"d786338414f4122a59066a029d99552f\", element=\"f.4A28A326BCC328EAA26C2A7488D4C5B3.d.D5BFBCF323938611CB2D93B54E183E90.e.360\")>,\n",
       " <selenium.webdriver.remote.webelement.WebElement (session=\"d786338414f4122a59066a029d99552f\", element=\"f.4A28A326BCC328EAA26C2A7488D4C5B3.d.D5BFBCF323938611CB2D93B54E183E90.e.361\")>,\n",
       " <selenium.webdriver.remote.webelement.WebElement (session=\"d786338414f4122a59066a029d99552f\", element=\"f.4A28A326BCC328EAA26C2A7488D4C5B3.d.D5BFBCF323938611CB2D93B54E183E90.e.362\")>,\n",
       " <selenium.webdriver.remote.webelement.WebElement (session=\"d786338414f4122a59066a029d99552f\", element=\"f.4A28A326BCC328EAA26C2A7488D4C5B3.d.D5BFBCF323938611CB2D93B54E183E90.e.363\")>,\n",
       " <selenium.webdriver.remote.webelement.WebElement (session=\"d786338414f4122a59066a029d99552f\", element=\"f.4A28A326BCC328EAA26C2A7488D4C5B3.d.D5BFBCF323938611CB2D93B54E183E90.e.364\")>,\n",
       " <selenium.webdriver.remote.webelement.WebElement (session=\"d786338414f4122a59066a029d99552f\", element=\"f.4A28A326BCC328EAA26C2A7488D4C5B3.d.D5BFBCF323938611CB2D93B54E183E90.e.365\")>]"
      ]
     },
     "execution_count": 1619,
     "metadata": {},
     "output_type": "execute_result"
    }
   ],
   "source": [
    "Time_elements = driver.find_elements(By.CSS_SELECTOR,\".y6tNq\")\n",
    "Time_elements"
   ]
  },
  {
   "cell_type": "code",
   "execution_count": 1620,
   "metadata": {},
   "outputs": [
    {
     "name": "stdout",
     "output_type": "stream",
     "text": [
      "정리된 영업시간: 영업중24:00에0시0분에`금17:00-24:00`토17:00-24:00`일정기휴무 (매주 일요일)`월17:00-24:00`화17:00-24:00`수17:00-24:00`목17:00-24:00`-월요일이공휴일이면일요일정상영업,월요일휴무.\n"
     ]
    }
   ],
   "source": [
    "STORE_Time = []\n",
    "temp_times = []  # 임시로 각 영업시간을 저장할 리스트\n",
    "\n",
    "# Time_elements가 비어있거나 None인 경우 처리\n",
    "if not Time_elements:\n",
    "    STORE_Time.append(None)\n",
    "else:\n",
    "    for i in Time_elements:\n",
    "        if i is None or not i.text:  # 요소가 None이거나 텍스트가 비어있는 경우\n",
    "            continue\n",
    "            \n",
    "        time_text = i.text\n",
    "        \n",
    "        # 불필요한 텍스트 제거 (\\n 포함)\n",
    "        time_text = time_text.replace('영업 종료', '')\\\n",
    "                            .replace('영업시작', '')\\\n",
    "                            .replace('영업 시작', '')\\\n",
    "                            .replace('접기', '')\\\n",
    "                            .replace('\\n', '')\\\n",
    "                            .strip()\n",
    "        \n",
    "        # 빈 문자열이 된 경우 건너뛰기\n",
    "        if not time_text:\n",
    "            continue\n",
    "            \n",
    "        # 시간 형식 통일 (09:00 형식으로)\n",
    "        time_text = time_text.replace('9시 0분', '09:00')\n",
    "         # \"매일\" 형식의 영업시간을 요일별로 변환\n",
    "        if '매일' in time_text:\n",
    "            # 예: \"매일 11:30 - 24:00\" -> \"월 11:30 -24:00`화 11:30 -24:00`...\"\n",
    "            time_part = time_text.replace('매일', '').strip()\n",
    "            days = ['월', '화', '수', '목', '금', '토', '일']\n",
    "            for day in days:\n",
    "                temp_times.append(f'{day} {time_part}')\n",
    "        # 요일별 영업시간 형식 정리\n",
    "        if '정기휴무' in time_text:\n",
    "            # 정기휴무 정보는 그대로 유지\n",
    "            temp_times.append(time_text.strip())\n",
    "        else:\n",
    "            # 영업시간 정보 정리 (예: 금09:00-22:00 형식)\n",
    "            parts = time_text.split()\n",
    "            if len(parts) >= 3:  # 요일과 시간 정보가 있는 경우\n",
    "                day = parts[0]  # 요일\n",
    "                times = ''.join(parts[1:]).replace(' ', '')  # 시간 정보에서 공백 제거\n",
    "                temp_times.append(f'{day}{times}')  # 요일과 시간 사이 공백 없이\n",
    "\n",
    "    # 수집된 시간 정보가 있는 경우에만 처리\n",
    "    if temp_times:\n",
    "        combined_time = '`'.join(temp_times)\n",
    "        STORE_Time.append(combined_time)\n",
    "    else:\n",
    "        STORE_Time.append(None)\n",
    "\n",
    "# DataFrame에 추가\n",
    "naver_restaurants['영업시간'] = STORE_Time\n",
    "\n",
    "# 결과 확인\n",
    "print(\"정리된 영업시간:\", STORE_Time[0])"
   ]
  },
  {
   "cell_type": "code",
   "execution_count": 1621,
   "metadata": {},
   "outputs": [
    {
     "data": {
      "text/plain": [
       "True"
      ]
     },
     "execution_count": 1621,
     "metadata": {},
     "output_type": "execute_result"
    }
   ],
   "source": [
    "driver.get(url)\n",
    "driver.implicitly_wait(5)\n",
    "WebDriverWait(driver, 10).until(\n",
    "    EC.frame_to_be_available_and_switch_to_it((By.ID, \"entryIframe\"))\n",
    ")"
   ]
  },
  {
   "cell_type": "code",
   "execution_count": 1622,
   "metadata": {},
   "outputs": [],
   "source": [
    "# 버튼 요소들 찾기\n",
    "buttons = driver.find_elements(By.CSS_SELECTOR, \".tpj9w._tab-menu\")\n",
    "# 각 버튼의 자식 텍스트 확인 후 클릭\n",
    "for button in buttons:\n",
    "    if \"메뉴\" in button.text:  # 버튼의 텍스트에 \"메뉴\" 포함 여부 확인\n",
    "        button.click()  # 클릭 실행\n",
    "        break  # 첫 번째 \"메뉴\" 버튼만 클릭하고 종료"
   ]
  },
  {
   "cell_type": "code",
   "execution_count": 1623,
   "metadata": {},
   "outputs": [
    {
     "name": "stdout",
     "output_type": "stream",
     "text": [
      "버튼이 더 이상 존재하지 않습니다.\n"
     ]
    }
   ],
   "source": [
    "# 'fvwqf' 태그가 있는 버튼이 없어질 때까지 반복\n",
    "while True:\n",
    "    try:\n",
    "        # 버튼 요소 찾기\n",
    "        button = driver.find_element(By.CSS_SELECTOR, \".fvwqf\")\n",
    "        button.click()  # 버튼 클릭\n",
    "        print(\"버튼 클릭 완료\")\n",
    "        \n",
    "        # 스크롤 내리기\n",
    "        driver.execute_script(\"window.scrollBy(0, 300);\")  # 300px 아래로 스크롤\n",
    "        print(\"스크롤 완료\")\n",
    "        \n",
    "        time.sleep(1)  # 클릭 및 스크롤 후 잠시 대기 (필요에 따라 조정)\n",
    "    except:\n",
    "        # 버튼이 없으면 루프 종료\n",
    "        print(\"버튼이 더 이상 존재하지 않습니다.\")\n",
    "        break\n"
   ]
  },
  {
   "cell_type": "code",
   "execution_count": 1624,
   "metadata": {},
   "outputs": [
    {
     "data": {
      "text/plain": [
       "[<selenium.webdriver.remote.webelement.WebElement (session=\"d786338414f4122a59066a029d99552f\", element=\"f.671016C478D89C027E75B16AC2C6E280.d.ECDB5E67B2953CB3C7D31150D5479B75.e.480\")>,\n",
       " <selenium.webdriver.remote.webelement.WebElement (session=\"d786338414f4122a59066a029d99552f\", element=\"f.671016C478D89C027E75B16AC2C6E280.d.ECDB5E67B2953CB3C7D31150D5479B75.e.481\")>,\n",
       " <selenium.webdriver.remote.webelement.WebElement (session=\"d786338414f4122a59066a029d99552f\", element=\"f.671016C478D89C027E75B16AC2C6E280.d.ECDB5E67B2953CB3C7D31150D5479B75.e.482\")>,\n",
       " <selenium.webdriver.remote.webelement.WebElement (session=\"d786338414f4122a59066a029d99552f\", element=\"f.671016C478D89C027E75B16AC2C6E280.d.ECDB5E67B2953CB3C7D31150D5479B75.e.483\")>,\n",
       " <selenium.webdriver.remote.webelement.WebElement (session=\"d786338414f4122a59066a029d99552f\", element=\"f.671016C478D89C027E75B16AC2C6E280.d.ECDB5E67B2953CB3C7D31150D5479B75.e.484\")>,\n",
       " <selenium.webdriver.remote.webelement.WebElement (session=\"d786338414f4122a59066a029d99552f\", element=\"f.671016C478D89C027E75B16AC2C6E280.d.ECDB5E67B2953CB3C7D31150D5479B75.e.485\")>,\n",
       " <selenium.webdriver.remote.webelement.WebElement (session=\"d786338414f4122a59066a029d99552f\", element=\"f.671016C478D89C027E75B16AC2C6E280.d.ECDB5E67B2953CB3C7D31150D5479B75.e.486\")>,\n",
       " <selenium.webdriver.remote.webelement.WebElement (session=\"d786338414f4122a59066a029d99552f\", element=\"f.671016C478D89C027E75B16AC2C6E280.d.ECDB5E67B2953CB3C7D31150D5479B75.e.487\")>,\n",
       " <selenium.webdriver.remote.webelement.WebElement (session=\"d786338414f4122a59066a029d99552f\", element=\"f.671016C478D89C027E75B16AC2C6E280.d.ECDB5E67B2953CB3C7D31150D5479B75.e.488\")>,\n",
       " <selenium.webdriver.remote.webelement.WebElement (session=\"d786338414f4122a59066a029d99552f\", element=\"f.671016C478D89C027E75B16AC2C6E280.d.ECDB5E67B2953CB3C7D31150D5479B75.e.489\")>,\n",
       " <selenium.webdriver.remote.webelement.WebElement (session=\"d786338414f4122a59066a029d99552f\", element=\"f.671016C478D89C027E75B16AC2C6E280.d.ECDB5E67B2953CB3C7D31150D5479B75.e.490\")>]"
      ]
     },
     "execution_count": 1624,
     "metadata": {},
     "output_type": "execute_result"
    }
   ],
   "source": [
    "menu_elements = driver.find_elements(By.CSS_SELECTOR, \".yQlqY\")\n",
    "menu_elements"
   ]
  },
  {
   "cell_type": "code",
   "execution_count": 1625,
   "metadata": {},
   "outputs": [
    {
     "name": "stdout",
     "output_type": "stream",
     "text": [
      "해산물스페셜5\n",
      "조개구이(가리비)\n",
      "육회탕탕이\n",
      "조개탕\n",
      "해산물스페셜4\n",
      "해산물스페셜3\n",
      "문어숙회\n",
      "산낙지\n",
      "전복회\n",
      "해삼\n",
      "멍게\n"
     ]
    },
    {
     "data": {
      "text/plain": [
       "[['해산물스페셜5'],\n",
       " ['조개구이(가리비)'],\n",
       " ['육회탕탕이'],\n",
       " ['조개탕'],\n",
       " ['해산물스페셜4'],\n",
       " ['해산물스페셜3'],\n",
       " ['문어숙회'],\n",
       " ['산낙지'],\n",
       " ['전복회'],\n",
       " ['해삼'],\n",
       " ['멍게']]"
      ]
     },
     "execution_count": 1625,
     "metadata": {},
     "output_type": "execute_result"
    }
   ],
   "source": [
    "STORE_Menu = []\n",
    "for i in menu_elements:\n",
    "    print(i.text)\n",
    "    STORE_Menu.append(i.text)\n",
    "split_menu = [item.split(\", \") for item in STORE_Menu]\n",
    "df1 = pd.DataFrame(split_menu, columns=[\"메뉴\"])\n",
    "split_menu"
   ]
  },
  {
   "cell_type": "code",
   "execution_count": 1626,
   "metadata": {},
   "outputs": [
    {
     "data": {
      "text/plain": [
       "[<selenium.webdriver.remote.webelement.WebElement (session=\"d786338414f4122a59066a029d99552f\", element=\"f.671016C478D89C027E75B16AC2C6E280.d.ECDB5E67B2953CB3C7D31150D5479B75.e.491\")>,\n",
       " <selenium.webdriver.remote.webelement.WebElement (session=\"d786338414f4122a59066a029d99552f\", element=\"f.671016C478D89C027E75B16AC2C6E280.d.ECDB5E67B2953CB3C7D31150D5479B75.e.492\")>,\n",
       " <selenium.webdriver.remote.webelement.WebElement (session=\"d786338414f4122a59066a029d99552f\", element=\"f.671016C478D89C027E75B16AC2C6E280.d.ECDB5E67B2953CB3C7D31150D5479B75.e.493\")>,\n",
       " <selenium.webdriver.remote.webelement.WebElement (session=\"d786338414f4122a59066a029d99552f\", element=\"f.671016C478D89C027E75B16AC2C6E280.d.ECDB5E67B2953CB3C7D31150D5479B75.e.494\")>,\n",
       " <selenium.webdriver.remote.webelement.WebElement (session=\"d786338414f4122a59066a029d99552f\", element=\"f.671016C478D89C027E75B16AC2C6E280.d.ECDB5E67B2953CB3C7D31150D5479B75.e.495\")>,\n",
       " <selenium.webdriver.remote.webelement.WebElement (session=\"d786338414f4122a59066a029d99552f\", element=\"f.671016C478D89C027E75B16AC2C6E280.d.ECDB5E67B2953CB3C7D31150D5479B75.e.496\")>,\n",
       " <selenium.webdriver.remote.webelement.WebElement (session=\"d786338414f4122a59066a029d99552f\", element=\"f.671016C478D89C027E75B16AC2C6E280.d.ECDB5E67B2953CB3C7D31150D5479B75.e.497\")>,\n",
       " <selenium.webdriver.remote.webelement.WebElement (session=\"d786338414f4122a59066a029d99552f\", element=\"f.671016C478D89C027E75B16AC2C6E280.d.ECDB5E67B2953CB3C7D31150D5479B75.e.498\")>,\n",
       " <selenium.webdriver.remote.webelement.WebElement (session=\"d786338414f4122a59066a029d99552f\", element=\"f.671016C478D89C027E75B16AC2C6E280.d.ECDB5E67B2953CB3C7D31150D5479B75.e.499\")>,\n",
       " <selenium.webdriver.remote.webelement.WebElement (session=\"d786338414f4122a59066a029d99552f\", element=\"f.671016C478D89C027E75B16AC2C6E280.d.ECDB5E67B2953CB3C7D31150D5479B75.e.500\")>,\n",
       " <selenium.webdriver.remote.webelement.WebElement (session=\"d786338414f4122a59066a029d99552f\", element=\"f.671016C478D89C027E75B16AC2C6E280.d.ECDB5E67B2953CB3C7D31150D5479B75.e.501\")>]"
      ]
     },
     "execution_count": 1626,
     "metadata": {},
     "output_type": "execute_result"
    }
   ],
   "source": [
    "price_elements = driver.find_elements(By.CSS_SELECTOR, \".GXS1X\")\n",
    "price_elements"
   ]
  },
  {
   "cell_type": "code",
   "execution_count": 1627,
   "metadata": {},
   "outputs": [
    {
     "name": "stdout",
     "output_type": "stream",
     "text": [
      "55,000원\n",
      "55,000원\n",
      "45,000원\n",
      "39,000원\n",
      "45,000원\n",
      "39,000원\n",
      "39,000원\n",
      "35,000원\n",
      "39,000원\n",
      "29,000원\n",
      "29,000원\n"
     ]
    },
    {
     "data": {
      "text/plain": [
       "['55000원',\n",
       " '55000원',\n",
       " '45000원',\n",
       " '39000원',\n",
       " '45000원',\n",
       " '39000원',\n",
       " '39000원',\n",
       " '35000원',\n",
       " '39000원',\n",
       " '29000원',\n",
       " '29000원']"
      ]
     },
     "execution_count": 1627,
     "metadata": {},
     "output_type": "execute_result"
    }
   ],
   "source": [
    "STORE_Price=[]\n",
    "for i in price_elements:\n",
    "    print(i.text)\n",
    "    STORE_Price.append(i.text)\n",
    "# 쉼표 제거 및 데이터 분리\n",
    "split_Price = [item.replace(\",\", \"\").strip() if item and item.strip() else None for item in STORE_Price]\n",
    "\n",
    "df2 = pd.DataFrame(split_Price, columns=[\"가격\"])\n",
    "split_Price"
   ]
  },
  {
   "cell_type": "code",
   "execution_count": 1628,
   "metadata": {},
   "outputs": [
    {
     "data": {
      "text/html": [
       "<div>\n",
       "<style scoped>\n",
       "    .dataframe tbody tr th:only-of-type {\n",
       "        vertical-align: middle;\n",
       "    }\n",
       "\n",
       "    .dataframe tbody tr th {\n",
       "        vertical-align: top;\n",
       "    }\n",
       "\n",
       "    .dataframe thead th {\n",
       "        text-align: right;\n",
       "    }\n",
       "</style>\n",
       "<table border=\"1\" class=\"dataframe\">\n",
       "  <thead>\n",
       "    <tr style=\"text-align: right;\">\n",
       "      <th></th>\n",
       "      <th>식당명</th>\n",
       "      <th>카테고리</th>\n",
       "      <th>주소</th>\n",
       "      <th>영업시간</th>\n",
       "      <th>메뉴</th>\n",
       "      <th>가격</th>\n",
       "    </tr>\n",
       "  </thead>\n",
       "  <tbody>\n",
       "    <tr>\n",
       "      <th>0</th>\n",
       "      <td>바다이야기</td>\n",
       "      <td>조개요리</td>\n",
       "      <td>대구 동구 동부로30길 42-1</td>\n",
       "      <td>영업중24:00에0시0분에`금17:00-24:00`토17:00-24:00`일정기휴무...</td>\n",
       "      <td>해산물스페셜5</td>\n",
       "      <td>55000원</td>\n",
       "    </tr>\n",
       "    <tr>\n",
       "      <th>1</th>\n",
       "      <td>NaN</td>\n",
       "      <td>NaN</td>\n",
       "      <td>NaN</td>\n",
       "      <td>NaN</td>\n",
       "      <td>조개구이(가리비)</td>\n",
       "      <td>55000원</td>\n",
       "    </tr>\n",
       "    <tr>\n",
       "      <th>2</th>\n",
       "      <td>NaN</td>\n",
       "      <td>NaN</td>\n",
       "      <td>NaN</td>\n",
       "      <td>NaN</td>\n",
       "      <td>육회탕탕이</td>\n",
       "      <td>45000원</td>\n",
       "    </tr>\n",
       "    <tr>\n",
       "      <th>3</th>\n",
       "      <td>NaN</td>\n",
       "      <td>NaN</td>\n",
       "      <td>NaN</td>\n",
       "      <td>NaN</td>\n",
       "      <td>조개탕</td>\n",
       "      <td>39000원</td>\n",
       "    </tr>\n",
       "    <tr>\n",
       "      <th>4</th>\n",
       "      <td>NaN</td>\n",
       "      <td>NaN</td>\n",
       "      <td>NaN</td>\n",
       "      <td>NaN</td>\n",
       "      <td>해산물스페셜4</td>\n",
       "      <td>45000원</td>\n",
       "    </tr>\n",
       "    <tr>\n",
       "      <th>5</th>\n",
       "      <td>NaN</td>\n",
       "      <td>NaN</td>\n",
       "      <td>NaN</td>\n",
       "      <td>NaN</td>\n",
       "      <td>해산물스페셜3</td>\n",
       "      <td>39000원</td>\n",
       "    </tr>\n",
       "    <tr>\n",
       "      <th>6</th>\n",
       "      <td>NaN</td>\n",
       "      <td>NaN</td>\n",
       "      <td>NaN</td>\n",
       "      <td>NaN</td>\n",
       "      <td>문어숙회</td>\n",
       "      <td>39000원</td>\n",
       "    </tr>\n",
       "    <tr>\n",
       "      <th>7</th>\n",
       "      <td>NaN</td>\n",
       "      <td>NaN</td>\n",
       "      <td>NaN</td>\n",
       "      <td>NaN</td>\n",
       "      <td>산낙지</td>\n",
       "      <td>35000원</td>\n",
       "    </tr>\n",
       "    <tr>\n",
       "      <th>8</th>\n",
       "      <td>NaN</td>\n",
       "      <td>NaN</td>\n",
       "      <td>NaN</td>\n",
       "      <td>NaN</td>\n",
       "      <td>전복회</td>\n",
       "      <td>39000원</td>\n",
       "    </tr>\n",
       "    <tr>\n",
       "      <th>9</th>\n",
       "      <td>NaN</td>\n",
       "      <td>NaN</td>\n",
       "      <td>NaN</td>\n",
       "      <td>NaN</td>\n",
       "      <td>해삼</td>\n",
       "      <td>29000원</td>\n",
       "    </tr>\n",
       "    <tr>\n",
       "      <th>10</th>\n",
       "      <td>NaN</td>\n",
       "      <td>NaN</td>\n",
       "      <td>NaN</td>\n",
       "      <td>NaN</td>\n",
       "      <td>멍게</td>\n",
       "      <td>29000원</td>\n",
       "    </tr>\n",
       "  </tbody>\n",
       "</table>\n",
       "</div>"
      ],
      "text/plain": [
       "      식당명  카테고리                 주소  \\\n",
       "0   바다이야기  조개요리  대구 동구 동부로30길 42-1   \n",
       "1     NaN   NaN                NaN   \n",
       "2     NaN   NaN                NaN   \n",
       "3     NaN   NaN                NaN   \n",
       "4     NaN   NaN                NaN   \n",
       "5     NaN   NaN                NaN   \n",
       "6     NaN   NaN                NaN   \n",
       "7     NaN   NaN                NaN   \n",
       "8     NaN   NaN                NaN   \n",
       "9     NaN   NaN                NaN   \n",
       "10    NaN   NaN                NaN   \n",
       "\n",
       "                                                 영업시간         메뉴      가격  \n",
       "0   영업중24:00에0시0분에`금17:00-24:00`토17:00-24:00`일정기휴무...    해산물스페셜5  55000원  \n",
       "1                                                 NaN  조개구이(가리비)  55000원  \n",
       "2                                                 NaN      육회탕탕이  45000원  \n",
       "3                                                 NaN        조개탕  39000원  \n",
       "4                                                 NaN    해산물스페셜4  45000원  \n",
       "5                                                 NaN    해산물스페셜3  39000원  \n",
       "6                                                 NaN       문어숙회  39000원  \n",
       "7                                                 NaN        산낙지  35000원  \n",
       "8                                                 NaN        전복회  39000원  \n",
       "9                                                 NaN         해삼  29000원  \n",
       "10                                                NaN         멍게  29000원  "
      ]
     },
     "execution_count": 1628,
     "metadata": {},
     "output_type": "execute_result"
    }
   ],
   "source": [
    "# x축으로 합치기\n",
    "result = pd.concat([naver_restaurants,df1, df2], axis=1)\n",
    "result\n"
   ]
  },
  {
   "cell_type": "code",
   "execution_count": 1629,
   "metadata": {},
   "outputs": [],
   "source": [
    "csv4=naver_restaurants['식당명'][0]+\"_가게정보.csv\"\n",
    "result.to_csv(csv4,index=False,encoding='utf-8-sig')"
   ]
  },
  {
   "cell_type": "code",
   "execution_count": null,
   "metadata": {},
   "outputs": [],
   "source": []
  }
 ],
 "metadata": {
  "kernelspec": {
   "display_name": "py312_cpu_v1",
   "language": "python",
   "name": "python3"
  },
  "language_info": {
   "codemirror_mode": {
    "name": "ipython",
    "version": 3
   },
   "file_extension": ".py",
   "mimetype": "text/x-python",
   "name": "python",
   "nbconvert_exporter": "python",
   "pygments_lexer": "ipython3",
   "version": "3.12.9"
  }
 },
 "nbformat": 4,
 "nbformat_minor": 2
}
