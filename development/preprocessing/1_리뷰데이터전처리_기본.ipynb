{
 "cells": [
  {
   "cell_type": "code",
   "execution_count": 1,
   "metadata": {},
   "outputs": [],
   "source": [
    "import pandas as pd\n"
   ]
  },
  {
   "cell_type": "code",
   "execution_count": null,
   "metadata": {},
   "outputs": [],
   "source": [
    "DATA_PATH = '../../data'"
   ]
  },
  {
   "cell_type": "code",
   "execution_count": 7,
   "metadata": {},
   "outputs": [],
   "source": [
    "# 리뷰 파일들 불러오기C:\\project2_foodrecommendation\\data\\reviews\n",
    "with open(f'{DATA_PATH}/filenames.txt', encoding='euc-kr') as f:\n",
    "    filename_list = f.read()\n",
    "\n",
    "filename_list = filename_list.split('\\n')[:-1]"
   ]
  },
  {
   "cell_type": "code",
   "execution_count": 8,
   "metadata": {},
   "outputs": [],
   "source": [
    "result_df = pd.DataFrame(columns=[\"STORE_NAME\", \"VISITOR\", \"USER_INFO\", \"VISIT_COUNT\", \"REVIEW\", \"TAG\"])\n",
    "\n",
    "for file_name in filename_list:\n",
    "    df = pd.read_csv(f\"{DATA_PATH}/reviews/{file_name}\")\n",
    "    result_df = pd.concat([result_df, df], ignore_index=True)\n",
    "\n",
    "df = result_df.copy()\n"
   ]
  },
  {
   "cell_type": "code",
   "execution_count": 9,
   "metadata": {},
   "outputs": [
    {
     "data": {
      "text/plain": [
       "np.int64(0)"
      ]
     },
     "execution_count": 9,
     "metadata": {},
     "output_type": "execute_result"
    }
   ],
   "source": [
    "# 리뷰 결측치 처리\n",
    "df['REVIEW']= df['REVIEW'].fillna('')\n",
    "df['REVIEW'].isnull().sum()"
   ]
  },
  {
   "cell_type": "code",
   "execution_count": 11,
   "metadata": {},
   "outputs": [
    {
     "name": "stdout",
     "output_type": "stream",
     "text": [
      "<class 'pandas.core.frame.DataFrame'>\n",
      "RangeIndex: 7958 entries, 0 to 7957\n",
      "Data columns (total 4 columns):\n",
      " #   Column      Non-Null Count  Dtype \n",
      "---  ------      --------------  ----- \n",
      " 0   STORE_NAME  7958 non-null   object\n",
      " 1   USER_INFO   7802 non-null   object\n",
      " 2   REVIEW      7958 non-null   object\n",
      " 3   TAG         7958 non-null   object\n",
      "dtypes: object(4)\n",
      "memory usage: 248.8+ KB\n"
     ]
    }
   ],
   "source": [
    "df = df.drop(columns=['VISITOR', 'VISIT_COUNT'])\n",
    "df.info()"
   ]
  },
  {
   "cell_type": "code",
   "execution_count": null,
   "metadata": {},
   "outputs": [],
   "source": [
    "df.to_csv(f'{DATA_PATH}/dataset/1_basic.csv')"
   ]
  },
  {
   "cell_type": "code",
   "execution_count": null,
   "metadata": {},
   "outputs": [],
   "source": [
    "\n",
    "# visitor_review_num_list = []\n",
    "\n",
    "# for x in df['VISITOR']:\n",
    "#     review_num = x.split(' ')[-1]   \n",
    "#     review_num = review_num.replace(',', '')\n",
    "#     visitor_review_num_list.append(review_num)\n",
    "\n",
    "# df['VISITOR_REVIEW_NUM'] = visitor_review_num_list\n",
    "\n",
    "# df = df.drop([3949, 3951, 3952])\n",
    "# df['VISITOR_REVIEW_NUM'] = df['VISITOR_REVIEW_NUM'].astype('int64')\n",
    "\n",
    "# print(f\"삭제 전 행 수: {len(df)}\")\n",
    "\n",
    "# df = df.drop(3952)\n",
    "\n",
    "# print(f\"삭제 후 행 수: {len(df)}\")\n",
    "\n",
    "# 인덱스 재설정 (선택 사항)\n",
    "#df = df.reset_index(drop=True)//\n",
    "#print(\"인덱스를 재설정했습니다.\")\n",
    "\n",
    "# 결과 저장\n",
    "#df.to_csv('result_after_deletion.csv', index=False, encoding='utf-8-sig')\n",
    "# 또는 Excel로 저장하려면: df.to_excel('result_after_deletion.xlsx', index=False)\n"
   ]
  }
 ],
 "metadata": {
  "kernelspec": {
   "display_name": "project2",
   "language": "python",
   "name": "python3"
  },
  "language_info": {
   "codemirror_mode": {
    "name": "ipython",
    "version": 3
   },
   "file_extension": ".py",
   "mimetype": "text/x-python",
   "name": "python",
   "nbconvert_exporter": "python",
   "pygments_lexer": "ipython3",
   "version": "3.12.9"
  }
 },
 "nbformat": 4,
 "nbformat_minor": 2
}
